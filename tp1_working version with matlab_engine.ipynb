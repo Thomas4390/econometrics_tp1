{
 "cells": [
  {
   "attachments": {},
   "cell_type": "markdown",
   "metadata": {},
   "source": [
    "General notes:<br>\n",
    "&nbsp; &nbsp; &nbsp; &nbsp; 1) Collapse some of the cells in groups.<br>\n",
    "&nbsp; &nbsp; &nbsp; &nbsp; 1.1) If cells are not directly answering a question, collapse them togheter.<br>\n",
    "&nbsp; &nbsp; &nbsp; &nbsp; 2) Add Markdown to identify sections<br>\n",
    "&nbsp; &nbsp; &nbsp; &nbsp; 3) Review all comments <br>\n",
    "&nbsp; &nbsp; &nbsp; &nbsp; 4) Add precision to all columns, graphics and tables to explain the variables or labels if needed <br>\n",
    "&nbsp; &nbsp; &nbsp; &nbsp; 5) Standardiser les labels pour s'assurer qu'ils matchs ceux donnes dans le document"
   ]
  },
  {
   "attachments": {},
   "cell_type": "markdown",
   "metadata": {},
   "source": [
    "**Partie 1. Analyse préliminaire (20 points)**"
   ]
  },
  {
   "attachments": {},
   "cell_type": "markdown",
   "metadata": {},
   "source": [
    "Définissons la série $y_t = log(100\\times USDCAD_t) pour le reste de ce travail.<br>\n",
    "**1.a) Chargez les données et ne gardez que les observations jusqu'à décembre 2019. Tracez la série\n",
    "brute\n",
    "avec des étiquettes sur chaque axe et un titre 'log(100 USDCAD=x)'. La dimension temporelle\n",
    "doit apparaître sur l'axe des abscisses.**"
   ]
  },
  {
   "cell_type": "code",
   "execution_count": 136,
   "metadata": {
    "collapsed": true
   },
   "outputs": [],
   "source": [
    "import matplotlib.pyplot as plt\n",
    "import numpy as np\n",
    "import os\n",
    "import pandas as pd\n",
    "import seaborn as sns\n",
    "import scipy as sp\n",
    "import statsmodels.api as sm\n",
    "from statsmodels.tsa.ar_model import AutoReg\n",
    "from statsmodels.tsa.arima.model import ARIMA\n",
    "from statsmodels.tsa.arima.model import ARIMAResultsWrapper\n",
    "from arch import arch_model\n",
    "# Deactivate warnings\n",
    "import warnings\n",
    "warnings.filterwarnings('ignore')\n",
    "# set figure size for all plots\n",
    "plt.rcParams[\"figure.figsize\"] = (15, 6)"
   ]
  },
  {
   "cell_type": "code",
   "execution_count": 137,
   "metadata": {
    "collapsed": false
   },
   "outputs": [],
   "source": [
    "df = pd.read_csv(\"data_W2023.csv\")\n",
    "df.columns = [\"date\", \"USDCAD\"]"
   ]
  },
  {
   "cell_type": "code",
   "execution_count": 138,
   "metadata": {
    "collapsed": false
   },
   "outputs": [],
   "source": [
    "df = df[df[\"date\"] < \"2020-01-01\"]\n",
    "df[\"date\"] = pd.to_datetime(df[\"date\"])"
   ]
  },
  {
   "cell_type": "code",
   "execution_count": 139,
   "metadata": {
    "collapsed": false
   },
   "outputs": [
    {
     "name": "stdout",
     "output_type": "stream",
     "text": [
      "<class 'pandas.core.frame.DataFrame'>\n",
      "Int64Index: 564 entries, 0 to 563\n",
      "Data columns (total 2 columns):\n",
      " #   Column  Non-Null Count  Dtype         \n",
      "---  ------  --------------  -----         \n",
      " 0   date    564 non-null    datetime64[ns]\n",
      " 1   USDCAD  564 non-null    float64       \n",
      "dtypes: datetime64[ns](1), float64(1)\n",
      "memory usage: 13.2 KB\n"
     ]
    }
   ],
   "source": [
    "df.info()"
   ]
  },
  {
   "cell_type": "code",
   "execution_count": 140,
   "metadata": {
    "collapsed": false
   },
   "outputs": [],
   "source": [
    "df[\"log_100_USDCAD\"] = np.log(100 * df[\"USDCAD\"])"
   ]
  },
  {
   "cell_type": "code",
   "execution_count": 141,
   "metadata": {
    "collapsed": false
   },
   "outputs": [
    {
     "data": {
      "text/html": [
       "<div>\n",
       "<style scoped>\n",
       "    .dataframe tbody tr th:only-of-type {\n",
       "        vertical-align: middle;\n",
       "    }\n",
       "\n",
       "    .dataframe tbody tr th {\n",
       "        vertical-align: top;\n",
       "    }\n",
       "\n",
       "    .dataframe thead th {\n",
       "        text-align: right;\n",
       "    }\n",
       "</style>\n",
       "<table border=\"1\" class=\"dataframe\">\n",
       "  <thead>\n",
       "    <tr style=\"text-align: right;\">\n",
       "      <th></th>\n",
       "      <th>date</th>\n",
       "      <th>USDCAD</th>\n",
       "      <th>log_100_USDCAD</th>\n",
       "    </tr>\n",
       "  </thead>\n",
       "  <tbody>\n",
       "    <tr>\n",
       "      <th>559</th>\n",
       "      <td>2019-08-01</td>\n",
       "      <td>1.028977</td>\n",
       "      <td>4.633736</td>\n",
       "    </tr>\n",
       "    <tr>\n",
       "      <th>560</th>\n",
       "      <td>2019-09-01</td>\n",
       "      <td>1.023574</td>\n",
       "      <td>4.628470</td>\n",
       "    </tr>\n",
       "    <tr>\n",
       "      <th>561</th>\n",
       "      <td>2019-10-01</td>\n",
       "      <td>1.022401</td>\n",
       "      <td>4.627324</td>\n",
       "    </tr>\n",
       "    <tr>\n",
       "      <th>562</th>\n",
       "      <td>2019-11-01</td>\n",
       "      <td>1.024087</td>\n",
       "      <td>4.628971</td>\n",
       "    </tr>\n",
       "    <tr>\n",
       "      <th>563</th>\n",
       "      <td>2019-12-01</td>\n",
       "      <td>1.018995</td>\n",
       "      <td>4.623987</td>\n",
       "    </tr>\n",
       "  </tbody>\n",
       "</table>\n",
       "</div>"
      ],
      "text/plain": [
       "          date    USDCAD  log_100_USDCAD\n",
       "559 2019-08-01  1.028977        4.633736\n",
       "560 2019-09-01  1.023574        4.628470\n",
       "561 2019-10-01  1.022401        4.627324\n",
       "562 2019-11-01  1.024087        4.628971\n",
       "563 2019-12-01  1.018995        4.623987"
      ]
     },
     "execution_count": 141,
     "metadata": {},
     "output_type": "execute_result"
    }
   ],
   "source": [
    "df.tail()"
   ]
  },
  {
   "cell_type": "code",
   "execution_count": 142,
   "metadata": {
    "collapsed": false
   },
   "outputs": [
    {
     "data": {
      "text/plain": [
       "<matplotlib.legend.Legend at 0x25f056e8820>"
      ]
     },
     "execution_count": 142,
     "metadata": {},
     "output_type": "execute_result"
    },
    {
     "data": {
      "image/png": "[encoded data removed]",
      "text/plain": [
       "<Figure size 1500x600 with 1 Axes>"
      ]
     },
     "metadata": {},
     "output_type": "display_data"
    }
   ],
   "source": [
    "plt.plot(df[\"date\"], df[\"log_100_USDCAD\"])\n",
    "plt.xlabel(\"Date\")\n",
    "plt.ylabel(f\"log(100*USDCAD)\")\n",
    "plt.title(\"log(100 USDCAD=x)\")\n",
    "plt.legend([\"Transformed USDCAD exchange rate\"])"
   ]
  },
  {
   "attachments": {},
   "cell_type": "markdown",
   "metadata": {},
   "source": [
    "**1.b) Supposons qu'il existe une tendance temporelle déterministe (polynôme d'ordre 2) : $\\tau_t = \\alpha + \\beta*t + \\gamma*t^{2}$.<br>\n",
    "Appliquez la transformation requise pour stationnariser la série logarithmique (le logarithme du taux de\n",
    "change) et tracez la série résultante.**"
   ]
  },
  {
   "cell_type": "code",
   "execution_count": 143,
   "metadata": {
    "collapsed": false
   },
   "outputs": [
    {
     "name": "stdout",
     "output_type": "stream",
     "text": [
      "(564,)\n",
      "[4.7610422  4.75884533 4.83534151 4.83696236 4.85877396 4.85794385\n",
      " 4.86497037 4.86707798 4.87145092 4.86817975 4.86835547 4.86749507\n",
      " 4.86320854 4.85478901 4.85091538 4.84581827 4.84167668 4.84228522\n",
      " 4.84644672 4.84848022 4.85316086 4.85182805 4.85548985 4.85544228\n",
      " 4.85997348 4.86289664 4.86413107 4.87055681 4.88017561 4.8807804\n",
      " 4.8858553  4.88827616 4.88482142 4.88472306 4.87757635 4.87739232\n",
      " 4.87106498 4.86384534 4.85758098 4.85394387 4.84997435 4.84505172\n",
      " 4.84287616 4.84841198 4.84185812 4.8419881  4.84704538 4.86453914\n",
      " 4.86143057 4.87582441 4.88709521 4.89120475 4.89277253 4.89848857\n",
      " 4.90055933 4.90911375 4.90862979 4.92401123 4.92888778 4.9270907\n",
      " 4.93025189 4.93536009 4.94246508 4.95157326 4.94192286 4.94594532\n",
      " 4.94413975 4.95288475 4.9648376  4.97506984 4.97359646 4.97956012\n",
      " 4.98366804 4.98786964 4.97836422 4.96592048 4.96721697 4.97128921\n",
      " 4.96718653 4.97134245 4.96717208 4.97294587 4.97343673 4.97010811\n",
      " 4.96695986 4.96141334 4.96871977 4.97297811 4.96895876 4.95883563\n",
      " 4.95757481 4.95752028 4.95941475 4.96114436 4.96978434 4.97489566\n",
      " 4.97418385 4.97895889 4.97494523 4.9757342  4.97892923 4.98023197\n",
      " 4.98393167 4.98983917 4.97981127 4.98211732 4.97106604 4.97028666\n",
      " 4.97011313 4.97979746 4.98241383 4.98708619 4.99139434 5.01207248\n",
      " 5.01025155 5.00435403 4.9984182  4.99392965 4.9897662  4.99379147\n",
      " 4.98736051 4.98761572 4.98452212 4.98702424 4.9840017  4.98575662\n",
      " 4.9843348  4.98502019 4.98349274 4.98289692 4.98415033 4.98833064\n",
      " 4.98889997 4.98942656 4.9993414  5.00362821 5.01291954 5.01810958\n",
      " 5.02944878 5.02112504 5.0290558  5.0280496  5.02890288 5.02954553\n",
      " 5.03105281 5.0446344  5.05766079 5.05298311 5.06070016 5.05518667\n",
      " 5.05023135 5.05022578 5.05391401 5.05173074 5.05662302 5.06384528\n",
      " 5.06981905 5.07021248 5.06994585 5.06373481 5.05767937 5.0615325\n",
      " 5.05508467 5.05907978 5.05598884 5.0571405  5.05465818 5.05160425\n",
      " 5.04144828 5.02778198 5.01732209 5.01239814 5.01876589 5.01555046\n",
      " 5.01098874 5.00912803 5.00231008 4.99839419 4.99895487 4.99275381\n",
      " 4.98173038 4.97080042 4.95744026 4.94646531 4.94266926 4.92870355\n",
      " 4.92166996 4.92490691 4.92358936 4.91298813 4.91855363 4.90306631\n",
      " 4.9014409  4.89479549 4.89681751 4.89056622 4.89236884 4.89288307\n",
      " 4.8876794  4.87995811 4.88131996 4.87397477 4.8708017  4.86323387\n",
      " 4.86723287 4.87726512 4.86880064 4.86242624 4.86476999 4.86112642\n",
      " 4.8522704  4.84359813 4.84751023 4.84497844 4.84719898 4.84381006\n",
      " 4.84127848 4.83875923 4.83838209 4.83472582 4.83169404 4.82636875\n",
      " 4.82761751 4.8227733  4.81762499 4.81012734 4.80893223 4.81515591\n",
      " 4.81978923 4.83497694 4.84120818 4.84182409 4.84920699 4.84684128\n",
      " 4.84616294 4.84364768 4.85992633 4.87063988 4.88632232 4.89126152\n",
      " 4.89789223 4.88922849 4.88341728 4.88786026 4.88934732 4.89460528\n",
      " 4.89578506 4.91003841 4.91647026 4.92229816 4.91884828 4.92654572\n",
      " 4.91777875 4.93205183 4.9397035  4.95230429 4.95268745 4.95699643\n",
      " 4.95577316 4.95414522 4.9408617  4.93765521 4.94002423 4.95049637\n",
      " 4.96219354 4.9582168  4.96442693 4.94686836 4.94027903 4.9424271\n",
      " 4.93138534 4.92817897 4.9217993  4.91735709 4.91844352 4.92439283\n",
      " 4.92262628 4.92780319 4.9215282  4.91895672 4.92135586 4.91796489\n",
      " 4.91984264 4.91925391 4.9174994  4.90690323 4.8988539  4.90730859\n",
      " 4.89740509 4.90228498 4.90722341 4.91897138 4.91251571 4.91716652\n",
      " 4.91090283 4.91812562 4.91366418 4.91484318 4.92590597 4.93263963\n",
      " 4.94202876 4.9394209  4.9329377  4.93795887 4.94292945 4.95367666\n",
      " 4.96483933 4.99021578 4.98653128 5.00432718 5.00020859 5.0060848\n",
      " 4.99281497 4.9834551  4.98812404 4.97029948 4.95772379 4.95557518\n",
      " 4.96060169 4.9611932  4.95394898 4.95359726 4.94554514 4.94700857\n",
      " 4.93191647 4.93286042 4.93231213 4.93586318 4.94832542 4.93924393\n",
      " 4.94255106 4.94153229 4.94352834 4.95535926 4.96993885 4.96251348\n",
      " 4.95694075 4.96293788 4.97857887 4.97911014 4.9749358  4.96630335\n",
      " 4.96731918 4.9683737  4.98150562 4.98286039 4.99580846 4.9890534\n",
      " 5.00211073 4.99780155 4.99688136 4.99187755 4.97582958 4.96463815\n",
      " 4.96568181 4.97319    4.97601144 4.97841479 4.97535766 4.96941045\n",
      " 4.95904847 4.94194618 4.91973032 4.90441255 4.85713516 4.83408234\n",
      " 4.83487039 4.83494713 4.81586452 4.79133299 4.77921781 4.77060514\n",
      " 4.75584826 4.77276014 4.76671562 4.7788221  4.79771346 4.78823502\n",
      " 4.77232925 4.7627085  4.74207909 4.71268121 4.67301868 4.67724637\n",
      " 4.66808084 4.67839245 4.65892052 4.67421002 4.68030779 4.67393471\n",
      " 4.66349572 4.64826529 4.62606189 4.62022276 4.61535163 4.59860069\n",
      " 4.5931064  4.58112844 4.58453154 4.57044079 4.54546861 4.54290138\n",
      " 4.54603221 4.53589758 4.53429887 4.53959038 4.54363543 4.55709545\n",
      " 4.57413204 4.57335002 4.57546104 4.55006498 4.51980614 4.48751742\n",
      " 4.46501877 4.46012479 4.42652643 4.37992837 4.36077131 4.37614063\n",
      " 4.37630531 4.36978185 4.37266631 4.37916903 4.36625994 4.38246607\n",
      " 4.37438129 4.41319035 4.41390513 4.52519649 4.54883142 4.59028742\n",
      " 4.58990574 4.61546813 4.62790637 4.60679411 4.55875605 4.53148487\n",
      " 4.51269305 4.4753638  4.46408075 4.42934778 4.42881055 4.4125149\n",
      " 4.40303885 4.40865732 4.37514319 4.36028488 4.38019203 4.37255709\n",
      " 4.38167204 4.37691851 4.37224089 4.35651575 4.34971319 4.33964155\n",
      " 4.32369097 4.31383503 4.29758201 4.2757212  4.27962781 4.28049104\n",
      " 4.25991001 4.28508733 4.29812723 4.3208717  4.32845023 4.33320665\n",
      " 4.3249588  4.31045726 4.30434022 4.29823546 4.31161502 4.32610025\n",
      " 4.31646641 4.2995442  4.28230855 4.28491273 4.28843579 4.28158691\n",
      " 4.28408621 4.29833001 4.31221053 4.31031347 4.31460769 4.32441977\n",
      " 4.33318014 4.33590894 4.33194079 4.33402336 4.34353086 4.35735626\n",
      " 4.38615937 4.39948327 4.41177703 4.40540026 4.40014851 4.39220985\n",
      " 4.38214632 4.39551109 4.39928252 4.41984616 4.43002491 4.45256246\n",
      " 4.50200861 4.5366378  4.55891994 4.54781422 4.54220628 4.55247702\n",
      " 4.58663741 4.60926998 4.62690458 4.61989125 4.63891418 4.66557375\n",
      " 4.70276596 4.683795   4.65740176 4.62352232 4.62369035 4.60946067\n",
      " 4.62022743 4.61191973 4.62249789 4.62960857 4.64491066 4.64037441\n",
      " 4.63415128 4.6275116  4.64430346 4.645506   4.66151813 4.64089351\n",
      " 4.60404969 4.59150033 4.55593498 4.57577561 4.57696232 4.58233558\n",
      " 4.55789683 4.57099283 4.58832877 4.57765981 4.59232731 4.60724532\n",
      " 4.61204599 4.6100313  4.61077926 4.6080159  4.6220505  4.63697075\n",
      " 4.63179904 4.62994043 4.63933331 4.63924219 4.64749234 4.63587128\n",
      " 4.62581719 4.63373562 4.62847047 4.62732389 4.62897147 4.62398686]\n"
     ]
    }
   ],
   "source": [
    "Y = df[\"log_100_USDCAD\"].values\n",
    "print(Y.shape)\n",
    "print(Y)"
   ]
  },
  {
   "cell_type": "code",
   "execution_count": 144,
   "metadata": {},
   "outputs": [
    {
     "data": {
      "text/plain": [
       "564"
      ]
     },
     "execution_count": 144,
     "metadata": {},
     "output_type": "execute_result"
    }
   ],
   "source": [
    "T = len(Y)\n",
    "T"
   ]
  },
  {
   "cell_type": "code",
   "execution_count": 145,
   "metadata": {
    "collapsed": false
   },
   "outputs": [
    {
     "name": "stdout",
     "output_type": "stream",
     "text": [
      "Shape of the trend array: (564,)\n",
      "Shape of the ones array: (564,)\n"
     ]
    }
   ],
   "source": [
    "trend = np.arange(1, T + 1)\n",
    "print(\"Shape of the trend array:\",trend.shape)\n",
    "ones = np.ones(T)\n",
    "print(\"Shape of the ones array:\",trend.shape)"
   ]
  },
  {
   "cell_type": "code",
   "execution_count": 146,
   "metadata": {
    "collapsed": false
   },
   "outputs": [
    {
     "name": "stdout",
     "output_type": "stream",
     "text": [
      "Shape of the X array: (564, 3)\n",
      "[[1.00000e+00 1.00000e+00 1.00000e+00]\n",
      " [1.00000e+00 2.00000e+00 4.00000e+00]\n",
      " [1.00000e+00 3.00000e+00 9.00000e+00]\n",
      " ...\n",
      " [1.00000e+00 5.62000e+02 3.15844e+05]\n",
      " [1.00000e+00 5.63000e+02 3.16969e+05]\n",
      " [1.00000e+00 5.64000e+02 3.18096e+05]]\n"
     ]
    }
   ],
   "source": [
    "X = np.column_stack((ones, trend, trend ** 2))\n",
    "print(\"Shape of the X array:\", X.shape)\n",
    "print(X)"
   ]
  },
  {
   "cell_type": "code",
   "execution_count": 147,
   "metadata": {
    "collapsed": false
   },
   "outputs": [
    {
     "name": "stdout",
     "output_type": "stream",
     "text": [
      "<class 'numpy.ndarray'>\n",
      "Shape of the B array: (3,)\n",
      "[ 4.90909695e+00  7.33070085e-04 -3.06987062e-06]\n"
     ]
    }
   ],
   "source": [
    "B = np.linalg.inv(X.T @ X) @ X.T @ Y\n",
    "print(type(B))\n",
    "print(\"Shape of the B array:\",B.shape)\n",
    "print(B)"
   ]
  },
  {
   "cell_type": "code",
   "execution_count": 148,
   "metadata": {
    "collapsed": false
   },
   "outputs": [
    {
     "data": {
      "text/html": [
       "<div>\n",
       "<style scoped>\n",
       "    .dataframe tbody tr th:only-of-type {\n",
       "        vertical-align: middle;\n",
       "    }\n",
       "\n",
       "    .dataframe tbody tr th {\n",
       "        vertical-align: top;\n",
       "    }\n",
       "\n",
       "    .dataframe thead th {\n",
       "        text-align: right;\n",
       "    }\n",
       "</style>\n",
       "<table border=\"1\" class=\"dataframe\">\n",
       "  <thead>\n",
       "    <tr style=\"text-align: right;\">\n",
       "      <th></th>\n",
       "      <th>date</th>\n",
       "      <th>USDCAD</th>\n",
       "      <th>log_100_USDCAD</th>\n",
       "      <th>res</th>\n",
       "    </tr>\n",
       "  </thead>\n",
       "  <tbody>\n",
       "    <tr>\n",
       "      <th>0</th>\n",
       "      <td>1973-01-01</td>\n",
       "      <td>1.168677</td>\n",
       "      <td>4.761042</td>\n",
       "      <td>-0.148785</td>\n",
       "    </tr>\n",
       "    <tr>\n",
       "      <th>1</th>\n",
       "      <td>1973-02-01</td>\n",
       "      <td>1.166112</td>\n",
       "      <td>4.758845</td>\n",
       "      <td>-0.151705</td>\n",
       "    </tr>\n",
       "    <tr>\n",
       "      <th>2</th>\n",
       "      <td>1973-03-01</td>\n",
       "      <td>1.258816</td>\n",
       "      <td>4.835342</td>\n",
       "      <td>-0.075927</td>\n",
       "    </tr>\n",
       "    <tr>\n",
       "      <th>3</th>\n",
       "      <td>1973-04-01</td>\n",
       "      <td>1.260858</td>\n",
       "      <td>4.836962</td>\n",
       "      <td>-0.075018</td>\n",
       "    </tr>\n",
       "    <tr>\n",
       "      <th>4</th>\n",
       "      <td>1973-05-01</td>\n",
       "      <td>1.288661</td>\n",
       "      <td>4.858774</td>\n",
       "      <td>-0.053912</td>\n",
       "    </tr>\n",
       "    <tr>\n",
       "      <th>...</th>\n",
       "      <td>...</td>\n",
       "      <td>...</td>\n",
       "      <td>...</td>\n",
       "      <td>...</td>\n",
       "    </tr>\n",
       "    <tr>\n",
       "      <th>559</th>\n",
       "      <td>2019-08-01</td>\n",
       "      <td>1.028977</td>\n",
       "      <td>4.633736</td>\n",
       "      <td>0.276831</td>\n",
       "    </tr>\n",
       "    <tr>\n",
       "      <th>560</th>\n",
       "      <td>2019-09-01</td>\n",
       "      <td>1.023574</td>\n",
       "      <td>4.628470</td>\n",
       "      <td>0.274274</td>\n",
       "    </tr>\n",
       "    <tr>\n",
       "      <th>561</th>\n",
       "      <td>2019-10-01</td>\n",
       "      <td>1.022401</td>\n",
       "      <td>4.627324</td>\n",
       "      <td>0.275842</td>\n",
       "    </tr>\n",
       "    <tr>\n",
       "      <th>562</th>\n",
       "      <td>2019-11-01</td>\n",
       "      <td>1.024087</td>\n",
       "      <td>4.628971</td>\n",
       "      <td>0.280210</td>\n",
       "    </tr>\n",
       "    <tr>\n",
       "      <th>563</th>\n",
       "      <td>2019-12-01</td>\n",
       "      <td>1.018995</td>\n",
       "      <td>4.623987</td>\n",
       "      <td>0.277952</td>\n",
       "    </tr>\n",
       "  </tbody>\n",
       "</table>\n",
       "<p>564 rows × 4 columns</p>\n",
       "</div>"
      ],
      "text/plain": [
       "          date    USDCAD  log_100_USDCAD       res\n",
       "0   1973-01-01  1.168677        4.761042 -0.148785\n",
       "1   1973-02-01  1.166112        4.758845 -0.151705\n",
       "2   1973-03-01  1.258816        4.835342 -0.075927\n",
       "3   1973-04-01  1.260858        4.836962 -0.075018\n",
       "4   1973-05-01  1.288661        4.858774 -0.053912\n",
       "..         ...       ...             ...       ...\n",
       "559 2019-08-01  1.028977        4.633736  0.276831\n",
       "560 2019-09-01  1.023574        4.628470  0.274274\n",
       "561 2019-10-01  1.022401        4.627324  0.275842\n",
       "562 2019-11-01  1.024087        4.628971  0.280210\n",
       "563 2019-12-01  1.018995        4.623987  0.277952\n",
       "\n",
       "[564 rows x 4 columns]"
      ]
     },
     "execution_count": 148,
     "metadata": {},
     "output_type": "execute_result"
    }
   ],
   "source": [
    "df[\"res\"] = Y - X @ B\n",
    "df"
   ]
  },
  {
   "cell_type": "code",
   "execution_count": 149,
   "metadata": {
    "collapsed": false
   },
   "outputs": [
    {
     "data": {
      "text/plain": [
       "Text(0.5, 1.0, 'Determinist trend deviation')"
      ]
     },
     "execution_count": 149,
     "metadata": {},
     "output_type": "execute_result"
    },
    {
     "data": {
      "image/png": "[encoded data removed]",
      "text/plain": [
       "<Figure size 1500x600 with 1 Axes>"
      ]
     },
     "metadata": {},
     "output_type": "display_data"
    }
   ],
   "source": [
    "plt.plot(df[\"date\"], df[\"res\"])\n",
    "plt.xlabel(\"Date\")\n",
    "plt.ylabel(f\"% (residuals)\")\n",
    "plt.title(\"Determinist trend deviation\")"
   ]
  },
  {
   "cell_type": "code",
   "execution_count": 150,
   "metadata": {
    "collapsed": false
   },
   "outputs": [
    {
     "data": {
      "text/plain": [
       "<matplotlib.legend.Legend at 0x25f05767430>"
      ]
     },
     "execution_count": 150,
     "metadata": {},
     "output_type": "execute_result"
    },
    {
     "data": {
      "image/png": "[encoded data removed]",
      "text/plain": [
       "<Figure size 1500x600 with 1 Axes>"
      ]
     },
     "metadata": {},
     "output_type": "display_data"
    }
   ],
   "source": [
    "plt.plot(df[\"date\"], df[\"log_100_USDCAD\"], label=\"Log(100*USDCAD)\")\n",
    "plt.plot(df[\"date\"], X @ B, label=\"Polynomial Trend\")\n",
    "plt.xlabel(\"Date\")\n",
    "plt.ylabel(f\"Log(100*USDCAD)\")\n",
    "plt.title(\"log(100*USDCAD=x)\")\n",
    "plt.legend()\n"
   ]
  },
  {
   "attachments": {},
   "cell_type": "markdown",
   "metadata": {},
   "source": [
    "**1.c) Supposons qu'il existe une tendance temporelle stochastique, c'est-à-dire une marche aléatoire.<br>\n",
    "Appliquez la transformation requise pour stationnariser la série logarithmique (le logarithme du taux d'echange) et tracez la série résultante.**"
   ]
  },
  {
   "cell_type": "code",
   "execution_count": 151,
   "metadata": {
    "collapsed": false
   },
   "outputs": [
    {
     "data": {
      "text/plain": [
       "(563, 5)"
      ]
     },
     "execution_count": 151,
     "metadata": {},
     "output_type": "execute_result"
    }
   ],
   "source": [
    "df_stoch = df.copy() #Copy to make first part robust if we run the project out of order\n",
    "df_stoch[\"stoch_USDCAD\"] = df_stoch[\"log_100_USDCAD\"].diff() * 100\n",
    "df_stoch.dropna(inplace=True) # drop first row\n",
    "df_stoch.shape\n"
   ]
  },
  {
   "cell_type": "code",
   "execution_count": 152,
   "metadata": {
    "collapsed": false
   },
   "outputs": [
    {
     "data": {
      "text/html": [
       "<div>\n",
       "<style scoped>\n",
       "    .dataframe tbody tr th:only-of-type {\n",
       "        vertical-align: middle;\n",
       "    }\n",
       "\n",
       "    .dataframe tbody tr th {\n",
       "        vertical-align: top;\n",
       "    }\n",
       "\n",
       "    .dataframe thead th {\n",
       "        text-align: right;\n",
       "    }\n",
       "</style>\n",
       "<table border=\"1\" class=\"dataframe\">\n",
       "  <thead>\n",
       "    <tr style=\"text-align: right;\">\n",
       "      <th></th>\n",
       "      <th>date</th>\n",
       "      <th>USDCAD</th>\n",
       "      <th>log_100_USDCAD</th>\n",
       "      <th>res</th>\n",
       "      <th>stoch_USDCAD</th>\n",
       "    </tr>\n",
       "  </thead>\n",
       "  <tbody>\n",
       "    <tr>\n",
       "      <th>1</th>\n",
       "      <td>1973-02-01</td>\n",
       "      <td>1.166112</td>\n",
       "      <td>4.758845</td>\n",
       "      <td>-0.151705</td>\n",
       "      <td>-0.219688</td>\n",
       "    </tr>\n",
       "    <tr>\n",
       "      <th>2</th>\n",
       "      <td>1973-03-01</td>\n",
       "      <td>1.258816</td>\n",
       "      <td>4.835342</td>\n",
       "      <td>-0.075927</td>\n",
       "      <td>7.649618</td>\n",
       "    </tr>\n",
       "    <tr>\n",
       "      <th>3</th>\n",
       "      <td>1973-04-01</td>\n",
       "      <td>1.260858</td>\n",
       "      <td>4.836962</td>\n",
       "      <td>-0.075018</td>\n",
       "      <td>0.162085</td>\n",
       "    </tr>\n",
       "    <tr>\n",
       "      <th>4</th>\n",
       "      <td>1973-05-01</td>\n",
       "      <td>1.288661</td>\n",
       "      <td>4.858774</td>\n",
       "      <td>-0.053912</td>\n",
       "      <td>2.181160</td>\n",
       "    </tr>\n",
       "    <tr>\n",
       "      <th>5</th>\n",
       "      <td>1973-06-01</td>\n",
       "      <td>1.287592</td>\n",
       "      <td>4.857944</td>\n",
       "      <td>-0.055441</td>\n",
       "      <td>-0.083011</td>\n",
       "    </tr>\n",
       "  </tbody>\n",
       "</table>\n",
       "</div>"
      ],
      "text/plain": [
       "        date    USDCAD  log_100_USDCAD       res  stoch_USDCAD\n",
       "1 1973-02-01  1.166112        4.758845 -0.151705     -0.219688\n",
       "2 1973-03-01  1.258816        4.835342 -0.075927      7.649618\n",
       "3 1973-04-01  1.260858        4.836962 -0.075018      0.162085\n",
       "4 1973-05-01  1.288661        4.858774 -0.053912      2.181160\n",
       "5 1973-06-01  1.287592        4.857944 -0.055441     -0.083011"
      ]
     },
     "execution_count": 152,
     "metadata": {},
     "output_type": "execute_result"
    }
   ],
   "source": [
    "df_stoch.head()"
   ]
  },
  {
   "cell_type": "code",
   "execution_count": 153,
   "metadata": {
    "collapsed": false
   },
   "outputs": [
    {
     "data": {
      "text/plain": [
       "Text(0.5, 1.0, 'Hypothesis: stochastic trend')"
      ]
     },
     "execution_count": 153,
     "metadata": {},
     "output_type": "execute_result"
    },
    {
     "data": {
      "image/png": "[encoded data removed]",
      "text/plain": [
       "<Figure size 1500x600 with 1 Axes>"
      ]
     },
     "metadata": {},
     "output_type": "display_data"
    }
   ],
   "source": [
    "plt.plot(df_stoch[\"date\"], df_stoch[\"stoch_USDCAD\"])\n",
    "plt.xlabel(\"Date\")\n",
    "plt.title(\"Hypothesis: stochastic trend\")"
   ]
  },
  {
   "attachments": {},
   "cell_type": "markdown",
   "metadata": {},
   "source": [
    "**1.c) Supposons qu'il existe une tendance temporelle stochastique, c'est-à-dire une marche aléatoire.<br>\n",
    "Appliquez la transformation requise pour stationnariser la série logarithmique (le logarithme du taux d'echange) et tracez la série résultante.**"
   ]
  },
  {
   "cell_type": "code",
   "execution_count": 154,
   "metadata": {
    "collapsed": false
   },
   "outputs": [
    {
     "data": {
      "image/png": "[encoded data removed]",
      "text/plain": [
       "<Figure size 1500x600 with 1 Axes>"
      ]
     },
     "metadata": {},
     "output_type": "display_data"
    }
   ],
   "source": [
    "sm.graphics.tsa.plot_acf(df_stoch[\"stoch_USDCAD\"], lags=50, title=\"ACF of stochastic trend\");\n"
   ]
  },
  {
   "cell_type": "code",
   "execution_count": 155,
   "metadata": {
    "collapsed": false
   },
   "outputs": [
    {
     "data": {
      "image/png": "[encoded data removed]",
      "text/plain": [
       "<Figure size 1500x600 with 1 Axes>"
      ]
     },
     "metadata": {},
     "output_type": "display_data"
    }
   ],
   "source": [
    "sm.graphics.tsa.plot_acf(df_stoch[\"res\"], lags=50, title=\"ACF of determinist trend\");"
   ]
  },
  {
   "attachments": {},
   "cell_type": "markdown",
   "metadata": {},
   "source": [
    "**Interpretation**"
   ]
  },
  {
   "cell_type": "markdown",
   "metadata": {
    "collapsed": false
   },
   "source": [
    "Pour commencer, on sait que l'autocorrélation non conditionnelle est une mesure de la dépendance temporelle, ce qui nous permet à partir des graphiques d'autocorrélations, de conclure sur la nature stationnaire de la série. On attend d'une série stationnaire des mouvements autour d'une moyenne et de bornes qui sont fixes dans le temps.\n",
    "\n",
    "\n",
    "- Concernant le graphique des autocorrélations de la tendance déterministe polynomiale, on observe que les autocorrélations tendent lentement vers 0. La moyenne des autocorrélations n'est donc pas nulle. On peut donc conclure que la série `log_100_USDCAD` n'est pas stationnaire.\n",
    "- D'autre part, on observe que les autocorrélations de la série à tendance stochastique tendent rapidement vers 0 pour les 50 lags testés, avec une moyenne qui à l'air nulle en fonction du nombre de lags.\n",
    "\n",
    "On sait que tout processus stationnaire est caractérisé par une courte mémoire: $Corr(y_t, y_{t-k}) \\rightarrow 0$ lorsque $k$ augmente. On peut donc conclure que la série `stoch_USDCAD` est stationnaire.\n"
   ]
  },
  {
   "attachments": {},
   "cell_type": "markdown",
   "metadata": {},
   "source": [
    "**1.e) A partir de maintenant, utilisez exclusivement la série qui est stationnaire. Effectuez les tests de Ljung-Box avec 1 à 18 lags pour vérifier si la série est un bruit blanc et concluez.**"
   ]
  },
  {
   "cell_type": "code",
   "execution_count": 156,
   "metadata": {
    "collapsed": false
   },
   "outputs": [
    {
     "data": {
      "text/html": [
       "<div>\n",
       "<style scoped>\n",
       "    .dataframe tbody tr th:only-of-type {\n",
       "        vertical-align: middle;\n",
       "    }\n",
       "\n",
       "    .dataframe tbody tr th {\n",
       "        vertical-align: top;\n",
       "    }\n",
       "\n",
       "    .dataframe thead th {\n",
       "        text-align: right;\n",
       "    }\n",
       "</style>\n",
       "<table border=\"1\" class=\"dataframe\">\n",
       "  <thead>\n",
       "    <tr style=\"text-align: right;\">\n",
       "      <th></th>\n",
       "      <th>lb_stat</th>\n",
       "      <th>lb_pvalue</th>\n",
       "    </tr>\n",
       "  </thead>\n",
       "  <tbody>\n",
       "    <tr>\n",
       "      <th>1</th>\n",
       "      <td>63.837877</td>\n",
       "      <td>1.350911e-15</td>\n",
       "    </tr>\n",
       "    <tr>\n",
       "      <th>2</th>\n",
       "      <td>130.932915</td>\n",
       "      <td>3.700656e-29</td>\n",
       "    </tr>\n",
       "    <tr>\n",
       "      <th>3</th>\n",
       "      <td>135.330291</td>\n",
       "      <td>3.838951e-29</td>\n",
       "    </tr>\n",
       "    <tr>\n",
       "      <th>4</th>\n",
       "      <td>153.014709</td>\n",
       "      <td>4.598552e-32</td>\n",
       "    </tr>\n",
       "    <tr>\n",
       "      <th>5</th>\n",
       "      <td>155.108804</td>\n",
       "      <td>1.090679e-31</td>\n",
       "    </tr>\n",
       "    <tr>\n",
       "      <th>6</th>\n",
       "      <td>156.108470</td>\n",
       "      <td>3.947901e-31</td>\n",
       "    </tr>\n",
       "    <tr>\n",
       "      <th>7</th>\n",
       "      <td>157.514338</td>\n",
       "      <td>1.069480e-30</td>\n",
       "    </tr>\n",
       "    <tr>\n",
       "      <th>8</th>\n",
       "      <td>157.903502</td>\n",
       "      <td>4.387614e-30</td>\n",
       "    </tr>\n",
       "    <tr>\n",
       "      <th>9</th>\n",
       "      <td>158.157909</td>\n",
       "      <td>1.792324e-29</td>\n",
       "    </tr>\n",
       "    <tr>\n",
       "      <th>10</th>\n",
       "      <td>159.368871</td>\n",
       "      <td>4.373649e-29</td>\n",
       "    </tr>\n",
       "    <tr>\n",
       "      <th>11</th>\n",
       "      <td>159.694552</td>\n",
       "      <td>1.545041e-28</td>\n",
       "    </tr>\n",
       "    <tr>\n",
       "      <th>12</th>\n",
       "      <td>160.176521</td>\n",
       "      <td>4.834991e-28</td>\n",
       "    </tr>\n",
       "    <tr>\n",
       "      <th>13</th>\n",
       "      <td>161.715202</td>\n",
       "      <td>8.859721e-28</td>\n",
       "    </tr>\n",
       "    <tr>\n",
       "      <th>14</th>\n",
       "      <td>162.793787</td>\n",
       "      <td>1.944919e-27</td>\n",
       "    </tr>\n",
       "    <tr>\n",
       "      <th>15</th>\n",
       "      <td>162.883982</td>\n",
       "      <td>6.519424e-27</td>\n",
       "    </tr>\n",
       "    <tr>\n",
       "      <th>16</th>\n",
       "      <td>163.072280</td>\n",
       "      <td>2.017328e-26</td>\n",
       "    </tr>\n",
       "    <tr>\n",
       "      <th>17</th>\n",
       "      <td>163.074212</td>\n",
       "      <td>6.579370e-26</td>\n",
       "    </tr>\n",
       "    <tr>\n",
       "      <th>18</th>\n",
       "      <td>164.367578</td>\n",
       "      <td>1.160558e-25</td>\n",
       "    </tr>\n",
       "  </tbody>\n",
       "</table>\n",
       "</div>"
      ],
      "text/plain": [
       "       lb_stat     lb_pvalue\n",
       "1    63.837877  1.350911e-15\n",
       "2   130.932915  3.700656e-29\n",
       "3   135.330291  3.838951e-29\n",
       "4   153.014709  4.598552e-32\n",
       "5   155.108804  1.090679e-31\n",
       "6   156.108470  3.947901e-31\n",
       "7   157.514338  1.069480e-30\n",
       "8   157.903502  4.387614e-30\n",
       "9   158.157909  1.792324e-29\n",
       "10  159.368871  4.373649e-29\n",
       "11  159.694552  1.545041e-28\n",
       "12  160.176521  4.834991e-28\n",
       "13  161.715202  8.859721e-28\n",
       "14  162.793787  1.944919e-27\n",
       "15  162.883982  6.519424e-27\n",
       "16  163.072280  2.017328e-26\n",
       "17  163.074212  6.579370e-26\n",
       "18  164.367578  1.160558e-25"
      ]
     },
     "execution_count": 156,
     "metadata": {},
     "output_type": "execute_result"
    }
   ],
   "source": [
    "ljung_box_test = sm.stats.acorr_ljungbox(df_stoch[\"stoch_USDCAD\"], lags=18)\n",
    "ljung_box_test\n"
   ]
  },
  {
   "cell_type": "code",
   "execution_count": 157,
   "metadata": {
    "collapsed": false
   },
   "outputs": [
    {
     "data": {
      "text/html": [
       "<div>\n",
       "<style scoped>\n",
       "    .dataframe tbody tr th:only-of-type {\n",
       "        vertical-align: middle;\n",
       "    }\n",
       "\n",
       "    .dataframe tbody tr th {\n",
       "        vertical-align: top;\n",
       "    }\n",
       "\n",
       "    .dataframe thead th {\n",
       "        text-align: right;\n",
       "    }\n",
       "</style>\n",
       "<table border=\"1\" class=\"dataframe\">\n",
       "  <thead>\n",
       "    <tr style=\"text-align: right;\">\n",
       "      <th></th>\n",
       "      <th>lb_stat</th>\n",
       "      <th>lb_pvalue</th>\n",
       "      <th>p = 0.1</th>\n",
       "      <th>p = 0.05</th>\n",
       "      <th>p = 0.01</th>\n",
       "    </tr>\n",
       "  </thead>\n",
       "  <tbody>\n",
       "    <tr>\n",
       "      <th>1</th>\n",
       "      <td>63.837877</td>\n",
       "      <td>1.350911e-15</td>\n",
       "      <td>True</td>\n",
       "      <td>True</td>\n",
       "      <td>True</td>\n",
       "    </tr>\n",
       "    <tr>\n",
       "      <th>2</th>\n",
       "      <td>130.932915</td>\n",
       "      <td>3.700656e-29</td>\n",
       "      <td>True</td>\n",
       "      <td>True</td>\n",
       "      <td>True</td>\n",
       "    </tr>\n",
       "    <tr>\n",
       "      <th>3</th>\n",
       "      <td>135.330291</td>\n",
       "      <td>3.838951e-29</td>\n",
       "      <td>True</td>\n",
       "      <td>True</td>\n",
       "      <td>True</td>\n",
       "    </tr>\n",
       "    <tr>\n",
       "      <th>4</th>\n",
       "      <td>153.014709</td>\n",
       "      <td>4.598552e-32</td>\n",
       "      <td>True</td>\n",
       "      <td>True</td>\n",
       "      <td>True</td>\n",
       "    </tr>\n",
       "    <tr>\n",
       "      <th>5</th>\n",
       "      <td>155.108804</td>\n",
       "      <td>1.090679e-31</td>\n",
       "      <td>True</td>\n",
       "      <td>True</td>\n",
       "      <td>True</td>\n",
       "    </tr>\n",
       "    <tr>\n",
       "      <th>6</th>\n",
       "      <td>156.108470</td>\n",
       "      <td>3.947901e-31</td>\n",
       "      <td>True</td>\n",
       "      <td>True</td>\n",
       "      <td>True</td>\n",
       "    </tr>\n",
       "    <tr>\n",
       "      <th>7</th>\n",
       "      <td>157.514338</td>\n",
       "      <td>1.069480e-30</td>\n",
       "      <td>True</td>\n",
       "      <td>True</td>\n",
       "      <td>True</td>\n",
       "    </tr>\n",
       "    <tr>\n",
       "      <th>8</th>\n",
       "      <td>157.903502</td>\n",
       "      <td>4.387614e-30</td>\n",
       "      <td>True</td>\n",
       "      <td>True</td>\n",
       "      <td>True</td>\n",
       "    </tr>\n",
       "    <tr>\n",
       "      <th>9</th>\n",
       "      <td>158.157909</td>\n",
       "      <td>1.792324e-29</td>\n",
       "      <td>True</td>\n",
       "      <td>True</td>\n",
       "      <td>True</td>\n",
       "    </tr>\n",
       "    <tr>\n",
       "      <th>10</th>\n",
       "      <td>159.368871</td>\n",
       "      <td>4.373649e-29</td>\n",
       "      <td>True</td>\n",
       "      <td>True</td>\n",
       "      <td>True</td>\n",
       "    </tr>\n",
       "    <tr>\n",
       "      <th>11</th>\n",
       "      <td>159.694552</td>\n",
       "      <td>1.545041e-28</td>\n",
       "      <td>True</td>\n",
       "      <td>True</td>\n",
       "      <td>True</td>\n",
       "    </tr>\n",
       "    <tr>\n",
       "      <th>12</th>\n",
       "      <td>160.176521</td>\n",
       "      <td>4.834991e-28</td>\n",
       "      <td>True</td>\n",
       "      <td>True</td>\n",
       "      <td>True</td>\n",
       "    </tr>\n",
       "    <tr>\n",
       "      <th>13</th>\n",
       "      <td>161.715202</td>\n",
       "      <td>8.859721e-28</td>\n",
       "      <td>True</td>\n",
       "      <td>True</td>\n",
       "      <td>True</td>\n",
       "    </tr>\n",
       "    <tr>\n",
       "      <th>14</th>\n",
       "      <td>162.793787</td>\n",
       "      <td>1.944919e-27</td>\n",
       "      <td>True</td>\n",
       "      <td>True</td>\n",
       "      <td>True</td>\n",
       "    </tr>\n",
       "    <tr>\n",
       "      <th>15</th>\n",
       "      <td>162.883982</td>\n",
       "      <td>6.519424e-27</td>\n",
       "      <td>True</td>\n",
       "      <td>True</td>\n",
       "      <td>True</td>\n",
       "    </tr>\n",
       "    <tr>\n",
       "      <th>16</th>\n",
       "      <td>163.072280</td>\n",
       "      <td>2.017328e-26</td>\n",
       "      <td>True</td>\n",
       "      <td>True</td>\n",
       "      <td>True</td>\n",
       "    </tr>\n",
       "    <tr>\n",
       "      <th>17</th>\n",
       "      <td>163.074212</td>\n",
       "      <td>6.579370e-26</td>\n",
       "      <td>True</td>\n",
       "      <td>True</td>\n",
       "      <td>True</td>\n",
       "    </tr>\n",
       "    <tr>\n",
       "      <th>18</th>\n",
       "      <td>164.367578</td>\n",
       "      <td>1.160558e-25</td>\n",
       "      <td>True</td>\n",
       "      <td>True</td>\n",
       "      <td>True</td>\n",
       "    </tr>\n",
       "  </tbody>\n",
       "</table>\n",
       "</div>"
      ],
      "text/plain": [
       "       lb_stat     lb_pvalue  p = 0.1  p = 0.05  p = 0.01\n",
       "1    63.837877  1.350911e-15     True      True      True\n",
       "2   130.932915  3.700656e-29     True      True      True\n",
       "3   135.330291  3.838951e-29     True      True      True\n",
       "4   153.014709  4.598552e-32     True      True      True\n",
       "5   155.108804  1.090679e-31     True      True      True\n",
       "6   156.108470  3.947901e-31     True      True      True\n",
       "7   157.514338  1.069480e-30     True      True      True\n",
       "8   157.903502  4.387614e-30     True      True      True\n",
       "9   158.157909  1.792324e-29     True      True      True\n",
       "10  159.368871  4.373649e-29     True      True      True\n",
       "11  159.694552  1.545041e-28     True      True      True\n",
       "12  160.176521  4.834991e-28     True      True      True\n",
       "13  161.715202  8.859721e-28     True      True      True\n",
       "14  162.793787  1.944919e-27     True      True      True\n",
       "15  162.883982  6.519424e-27     True      True      True\n",
       "16  163.072280  2.017328e-26     True      True      True\n",
       "17  163.074212  6.579370e-26     True      True      True\n",
       "18  164.367578  1.160558e-25     True      True      True"
      ]
     },
     "execution_count": 157,
     "metadata": {},
     "output_type": "execute_result"
    }
   ],
   "source": [
    "#Test if the p-value is inferior to a given thresold for every lag between 1 and 18\n",
    "p_values = [0.10, 0.05, 0.01]\n",
    "\n",
    "for p in p_values:\n",
    "    ljung_box_test[f\"p = {p}\"] = ljung_box_test[\"lb_pvalue\"] < p\n",
    "\n",
    "ljung_box_test"
   ]
  },
  {
   "cell_type": "markdown",
   "metadata": {
    "collapsed": false
   },
   "source": [
    "On rappelle que le test de Ljung-Box permet de tester l'hypothèse nulle d'absence d'autocorrélation pour les termes bruits blancs : $H_0: Corr(y_t, y_{t-k}) = 0$.\n",
    "\n",
    "On remarque que les `lb_pvalues` (p-values pour le test de Ljung-Box) sont très faibles pour les lags 1 à 18. On peut donc rejeter l'hypothèse nulle d'absence de corrélation pour ces lags au seuil de 5%. On peut donc conclure que les résidus ne sont pas indépendants et que la série est autocorrélée, ce qui implique que le terme d'erreur de la série `stoch_USDCAD` n'est pas bruit blanc."
   ]
  },
  {
   "cell_type": "markdown",
   "metadata": {
    "collapsed": false
   },
   "source": [
    "# Partie 2. Choix du modèle (30 points)"
   ]
  },
  {
   "cell_type": "markdown",
   "metadata": {
    "collapsed": false
   },
   "source": [
    "Considérons les 8 modèles suivants :\n",
    "- AR(1): $y_t = \\delta + \\phi_1 y_{t-1} + \\epsilon_t$\n",
    "- AR(2): $y_t = \\delta + \\phi_1 y_{t-1} + \\phi_2 y_{t-2} + \\epsilon_t$\n",
    "- AR(3): $y_t = \\delta + \\phi_1 y_{t-1} + \\phi_2 y_{t-2} + \\phi_3 y_{t-3} + \\epsilon_t$\n",
    "- AR(4): $y_t = \\delta + \\phi_1 y_{t-1} + \\phi_2 y_{t-2} + \\phi_3 y_{t-3} + \\phi_4 y_{t-4} + \\epsilon_t$\n",
    "- ARMA(1,1): $y_t = \\delta + \\phi_1 y_{t-1} - \\theta_1 \\epsilon_{t-1} + \\epsilon_t$\n",
    "- ARMA(2,2): $y_t = \\delta + \\phi_1 y_{t-1} + \\phi_2 y_{t-2} - \\theta_1 \\epsilon_{t-1} - \\theta_2 \\epsilon_{t-2} + \\epsilon_t$\n",
    "- ARMA(3,3): $y_t = \\delta + \\phi_1 y_{t-1} + \\phi_2 y_{t-2} + \\phi_3 y_{t-3} - \\theta_1 \\epsilon_{t-1} - \\theta_2 \\epsilon_{t-2} - \\theta_3 \\epsilon_{t-3} + \\epsilon_t$\n",
    "- ARMA(4,4): $y_t = \\delta + \\phi_1 y_{t-1} + \\phi_2 y_{t-2} + \\phi_3 y_{t-3} + \\phi_4 y_{t-4} - \\theta_1 \\epsilon_{t-1} - \\theta_2 \\epsilon_{t-2} - \\theta_3 \\epsilon_{t-3} - \\theta_4 \\epsilon_{t-4} + \\epsilon_t$"
   ]
  },
  {
   "cell_type": "code",
   "execution_count": 180,
   "metadata": {},
   "outputs": [],
   "source": [
    "def compute_eigenvalues(arma_model: ARIMAResultsWrapper) -> np.ndarray:\n",
    "    \"\"\"Compute the eigenvalues of the ARMA model.\"\"\"\n",
    "\n",
    "    #Find length of arparams\n",
    "    arparams = arma_model.arparams # store the AR parameters\n",
    "    n_ar_params_1 = len(arparams) - 1\n",
    "\n",
    "    #Make the params into a row array\n",
    "    param_array = arparams.reshape((1, arparams.shape[0]))\n",
    "\n",
    "    #Create sub array\n",
    "    ones = np.ones(n_ar_params_1)\n",
    "    diag_array = np.diag(ones).reshape((n_ar_params_1, n_ar_params_1))\n",
    "\n",
    "    #Create array of 0s\n",
    "    zero_col = np.zeros((n_ar_params_1, 1))\n",
    "\n",
    "    #Stack array\n",
    "    sub_array = np.hstack((diag_array, zero_col))\n",
    "    eigmat = np.vstack((param_array, sub_array))\n",
    "\n",
    "    return np.linalg.eigvals(eigmat) # compute the eigenvalues of the matrix"
   ]
  },
  {
   "cell_type": "code",
   "execution_count": 160,
   "metadata": {
    "collapsed": false
   },
   "outputs": [],
   "source": [
    "def check_stationarity(eigenvalues: np.ndarray) -> bool:\n",
    "    \"\"\"Check if the eigenvalues of the ARMA model are inferior to 1.\"\"\"\n",
    "    if eigenvalues.dtype == np.complex128: # If eigenvalues are complex, calcul the norm\n",
    "        a = np.real(eigenvalues)\n",
    "        b = np.imag(eigenvalues)\n",
    "        return all(np.sqrt(a**2 + b**2) < 1)\n",
    "    else: # If eigenvalues are real, check if they are inferior to 1 in absolute value\n",
    "        return all(np.abs(eigenvalues) < 1)"
   ]
  },
  {
   "cell_type": "code",
   "execution_count": 161,
   "metadata": {
    "collapsed": false
   },
   "outputs": [],
   "source": [
    "order_list = [([1], 0, [0]),\n",
    "               ([1, 2], 0, [0]),\n",
    "               ([1, 2, 3], 0, [0]),\n",
    "               ([1, 2, 3, 4], 0, [0]),\n",
    "               ([1], 0, [1]),\n",
    "               ([1, 2], 0, [1, 2]),\n",
    "               ([1, 2, 3], 0, [1, 2, 3]),\n",
    "               ([1, 2, 3, 4], 0, [1, 2, 3, 4])]\n"
   ]
  },
  {
   "cell_type": "code",
   "execution_count": 162,
   "metadata": {
    "collapsed": false
   },
   "outputs": [
    {
     "name": "stdout",
     "output_type": "stream",
     "text": [
      "Autoregressive lags: [1]\n",
      "Moving average lags: [0]\n",
      "                               SARIMAX Results                                \n",
      "==============================================================================\n",
      "Dep. Variable:           stoch_USDCAD   No. Observations:                  563\n",
      "Model:                 ARIMA(1, 0, 0)   Log Likelihood                -919.472\n",
      "Date:                Wed, 01 Mar 2023   AIC                           1844.945\n",
      "Time:                        16:56:39   BIC                           1857.945\n",
      "Sample:                             0   HQIC                          1850.020\n",
      "                                - 563                                         \n",
      "Covariance Type:                  opg                                         \n",
      "==============================================================================\n",
      "                 coef    std err          z      P>|z|      [0.025      0.975]\n",
      "------------------------------------------------------------------------------\n",
      "const         -0.0249      0.086     -0.291      0.771      -0.193       0.143\n",
      "ar.L1          0.3353      0.031     10.804      0.000       0.274       0.396\n",
      "sigma2         1.5345      0.035     43.732      0.000       1.466       1.603\n",
      "===================================================================================\n",
      "Ljung-Box (L1) (Q):                   4.25   Jarque-Bera (JB):              4966.20\n",
      "Prob(Q):                              0.04   Prob(JB):                         0.00\n",
      "Heteroskedasticity (H):               4.30   Skew:                             1.58\n",
      "Prob(H) (two-sided):                  0.00   Kurtosis:                        17.20\n",
      "===================================================================================\n",
      "\n",
      "Warnings:\n",
      "[1] Covariance matrix calculated using the outer product of gradients (complex-step).\n",
      "Autoregressive lags: [1, 2]\n",
      "Moving average lags: [0]\n",
      "                               SARIMAX Results                                \n",
      "==============================================================================\n",
      "Dep. Variable:           stoch_USDCAD   No. Observations:                  563\n",
      "Model:                 ARIMA(2, 0, 0)   Log Likelihood                -898.321\n",
      "Date:                Wed, 01 Mar 2023   AIC                           1804.642\n",
      "Time:                        16:56:39   BIC                           1821.976\n",
      "Sample:                             0   HQIC                          1811.409\n",
      "                                - 563                                         \n",
      "Covariance Type:                  opg                                         \n",
      "==============================================================================\n",
      "                 coef    std err          z      P>|z|      [0.025      0.975]\n",
      "------------------------------------------------------------------------------\n",
      "const         -0.0176      0.113     -0.156      0.876      -0.239       0.203\n",
      "ar.L1          0.2412      0.033      7.256      0.000       0.176       0.306\n",
      "ar.L2          0.2784      0.030      9.158      0.000       0.219       0.338\n",
      "sigma2         1.4231      0.041     35.077      0.000       1.344       1.503\n",
      "===================================================================================\n",
      "Ljung-Box (L1) (Q):                   0.76   Jarque-Bera (JB):              3465.59\n",
      "Prob(Q):                              0.38   Prob(JB):                         0.00\n",
      "Heteroskedasticity (H):               4.63   Skew:                             1.27\n",
      "Prob(H) (two-sided):                  0.00   Kurtosis:                        14.88\n",
      "===================================================================================\n",
      "\n",
      "Warnings:\n",
      "[1] Covariance matrix calculated using the outer product of gradients (complex-step).\n",
      "Autoregressive lags: [1, 2, 3]\n",
      "Moving average lags: [0]\n",
      "                               SARIMAX Results                                \n",
      "==============================================================================\n",
      "Dep. Variable:           stoch_USDCAD   No. Observations:                  563\n",
      "Model:                 ARIMA(3, 0, 0)   Log Likelihood                -894.764\n",
      "Date:                Wed, 01 Mar 2023   AIC                           1799.528\n",
      "Time:                        16:56:39   BIC                           1821.194\n",
      "Sample:                             0   HQIC                          1807.986\n",
      "                                - 563                                         \n",
      "Covariance Type:                  opg                                         \n",
      "==============================================================================\n",
      "                 coef    std err          z      P>|z|      [0.025      0.975]\n",
      "------------------------------------------------------------------------------\n",
      "const         -0.0204      0.101     -0.202      0.840      -0.219       0.178\n",
      "ar.L1          0.2708      0.035      7.722      0.000       0.202       0.340\n",
      "ar.L2          0.3094      0.032      9.566      0.000       0.246       0.373\n",
      "ar.L3         -0.1161      0.037     -3.154      0.002      -0.188      -0.044\n",
      "sigma2         1.4051      0.043     32.415      0.000       1.320       1.490\n",
      "===================================================================================\n",
      "Ljung-Box (L1) (Q):                   0.23   Jarque-Bera (JB):              3171.79\n",
      "Prob(Q):                              0.63   Prob(JB):                         0.00\n",
      "Heteroskedasticity (H):               4.55   Skew:                             1.22\n",
      "Prob(H) (two-sided):                  0.00   Kurtosis:                        14.37\n",
      "===================================================================================\n",
      "\n",
      "Warnings:\n",
      "[1] Covariance matrix calculated using the outer product of gradients (complex-step).\n",
      "Autoregressive lags: [1, 2, 3, 4]\n",
      "Moving average lags: [0]\n",
      "                               SARIMAX Results                                \n",
      "==============================================================================\n",
      "Dep. Variable:           stoch_USDCAD   No. Observations:                  563\n",
      "Model:                 ARIMA(4, 0, 0)   Log Likelihood                -891.030\n",
      "Date:                Wed, 01 Mar 2023   AIC                           1794.060\n",
      "Time:                        16:56:39   BIC                           1820.060\n",
      "Sample:                             0   HQIC                          1804.210\n",
      "                                - 563                                         \n",
      "Covariance Type:                  opg                                         \n",
      "==============================================================================\n",
      "                 coef    std err          z      P>|z|      [0.025      0.975]\n",
      "------------------------------------------------------------------------------\n",
      "const         -0.0178      0.114     -0.157      0.876      -0.240       0.205\n",
      "ar.L1          0.2838      0.035      8.106      0.000       0.215       0.352\n",
      "ar.L2          0.2759      0.034      8.088      0.000       0.209       0.343\n",
      "ar.L3         -0.1514      0.037     -4.063      0.000      -0.224      -0.078\n",
      "ar.L4          0.1188      0.038      3.164      0.002       0.045       0.192\n",
      "sigma2         1.3864      0.043     31.884      0.000       1.301       1.472\n",
      "===================================================================================\n",
      "Ljung-Box (L1) (Q):                   0.03   Jarque-Bera (JB):              3109.47\n",
      "Prob(Q):                              0.85   Prob(JB):                         0.00\n",
      "Heteroskedasticity (H):               4.50   Skew:                             1.21\n",
      "Prob(H) (two-sided):                  0.00   Kurtosis:                        14.26\n",
      "===================================================================================\n",
      "\n",
      "Warnings:\n",
      "[1] Covariance matrix calculated using the outer product of gradients (complex-step).\n",
      "Autoregressive lags: [1]\n",
      "Moving average lags: [1]\n",
      "                               SARIMAX Results                                \n",
      "==============================================================================\n",
      "Dep. Variable:           stoch_USDCAD   No. Observations:                  563\n",
      "Model:                 ARIMA(1, 0, 1)   Log Likelihood                -906.890\n",
      "Date:                Wed, 01 Mar 2023   AIC                           1821.779\n",
      "Time:                        16:56:39   BIC                           1839.113\n",
      "Sample:                             0   HQIC                          1828.546\n",
      "                                - 563                                         \n",
      "Covariance Type:                  opg                                         \n",
      "==============================================================================\n",
      "                 coef    std err          z      P>|z|      [0.025      0.975]\n",
      "------------------------------------------------------------------------------\n",
      "const         -0.0188      0.114     -0.164      0.869      -0.242       0.205\n",
      "ar.L1          0.7285      0.049     14.773      0.000       0.632       0.825\n",
      "ma.L1         -0.4378      0.068     -6.415      0.000      -0.572      -0.304\n",
      "sigma2         1.4672      0.036     41.174      0.000       1.397       1.537\n",
      "===================================================================================\n",
      "Ljung-Box (L1) (Q):                   0.88   Jarque-Bera (JB):              4419.83\n",
      "Prob(Q):                              0.35   Prob(JB):                         0.00\n",
      "Heteroskedasticity (H):               4.44   Skew:                             1.46\n",
      "Prob(H) (two-sided):                  0.00   Kurtosis:                        16.41\n",
      "===================================================================================\n",
      "\n",
      "Warnings:\n",
      "[1] Covariance matrix calculated using the outer product of gradients (complex-step).\n",
      "Autoregressive lags: [1, 2]\n",
      "Moving average lags: [1, 2]\n",
      "                               SARIMAX Results                                \n",
      "==============================================================================\n",
      "Dep. Variable:           stoch_USDCAD   No. Observations:                  563\n",
      "Model:                 ARIMA(2, 0, 2)   Log Likelihood                -892.400\n",
      "Date:                Wed, 01 Mar 2023   AIC                           1796.799\n",
      "Time:                        16:56:39   BIC                           1822.799\n",
      "Sample:                             0   HQIC                          1806.949\n",
      "                                - 563                                         \n",
      "Covariance Type:                  opg                                         \n",
      "==============================================================================\n",
      "                 coef    std err          z      P>|z|      [0.025      0.975]\n",
      "------------------------------------------------------------------------------\n",
      "const         -0.0200      0.104     -0.192      0.848      -0.224       0.184\n",
      "ar.L1         -0.1971      0.075     -2.621      0.009      -0.344      -0.050\n",
      "ar.L2          0.4295      0.076      5.631      0.000       0.280       0.579\n",
      "ma.L1          0.4819      0.079      6.135      0.000       0.328       0.636\n",
      "ma.L2         -0.0028      0.089     -0.032      0.974      -0.177       0.171\n",
      "sigma2         1.3932      0.044     31.725      0.000       1.307       1.479\n",
      "===================================================================================\n",
      "Ljung-Box (L1) (Q):                   0.03   Jarque-Bera (JB):              3056.67\n",
      "Prob(Q):                              0.86   Prob(JB):                         0.00\n",
      "Heteroskedasticity (H):               4.53   Skew:                             1.19\n",
      "Prob(H) (two-sided):                  0.00   Kurtosis:                        14.16\n",
      "===================================================================================\n",
      "\n",
      "Warnings:\n",
      "[1] Covariance matrix calculated using the outer product of gradients (complex-step).\n",
      "Autoregressive lags: [1, 2, 3]\n",
      "Moving average lags: [1, 2, 3]\n",
      "                               SARIMAX Results                                \n",
      "==============================================================================\n",
      "Dep. Variable:           stoch_USDCAD   No. Observations:                  563\n",
      "Model:                 ARIMA(3, 0, 3)   Log Likelihood                -891.399\n",
      "Date:                Wed, 01 Mar 2023   AIC                           1798.798\n",
      "Time:                        16:56:40   BIC                           1833.464\n",
      "Sample:                             0   HQIC                          1812.331\n",
      "                                - 563                                         \n",
      "Covariance Type:                  opg                                         \n",
      "==============================================================================\n",
      "                 coef    std err          z      P>|z|      [0.025      0.975]\n",
      "------------------------------------------------------------------------------\n",
      "const         -0.0185      0.111     -0.167      0.867      -0.236       0.199\n",
      "ar.L1         -0.0460      0.542     -0.085      0.932      -1.108       1.016\n",
      "ar.L2          0.4222      0.115      3.669      0.000       0.197       0.648\n",
      "ar.L3          0.0650      0.231      0.282      0.778      -0.387       0.517\n",
      "ma.L1          0.3307      0.546      0.606      0.545      -0.740       1.401\n",
      "ma.L2         -0.0424      0.252     -0.168      0.866      -0.536       0.451\n",
      "ma.L3         -0.1384      0.083     -1.677      0.094      -0.300       0.023\n",
      "sigma2         1.3883      0.045     30.575      0.000       1.299       1.477\n",
      "===================================================================================\n",
      "Ljung-Box (L1) (Q):                   0.02   Jarque-Bera (JB):              3076.26\n",
      "Prob(Q):                              0.88   Prob(JB):                         0.00\n",
      "Heteroskedasticity (H):               4.48   Skew:                             1.20\n",
      "Prob(H) (two-sided):                  0.00   Kurtosis:                        14.20\n",
      "===================================================================================\n",
      "\n",
      "Warnings:\n",
      "[1] Covariance matrix calculated using the outer product of gradients (complex-step).\n",
      "Autoregressive lags: [1, 2, 3, 4]\n",
      "Moving average lags: [1, 2, 3, 4]\n",
      "                               SARIMAX Results                                \n",
      "==============================================================================\n",
      "Dep. Variable:           stoch_USDCAD   No. Observations:                  563\n",
      "Model:                 ARIMA(4, 0, 4)   Log Likelihood                -890.153\n",
      "Date:                Wed, 01 Mar 2023   AIC                           1800.305\n",
      "Time:                        16:56:41   BIC                           1843.638\n",
      "Sample:                             0   HQIC                          1817.221\n",
      "                                - 563                                         \n",
      "Covariance Type:                  opg                                         \n",
      "==============================================================================\n",
      "                 coef    std err          z      P>|z|      [0.025      0.975]\n",
      "------------------------------------------------------------------------------\n",
      "const         -0.0037      0.106     -0.035      0.972      -0.211       0.203\n",
      "ar.L1          0.8918      0.083     10.689      0.000       0.728       1.055\n",
      "ar.L2         -0.2750      0.104     -2.657      0.008      -0.478      -0.072\n",
      "ar.L3         -0.6861      0.112     -6.111      0.000      -0.906      -0.466\n",
      "ar.L4          0.3929      0.081      4.826      0.000       0.233       0.552\n",
      "ma.L1         -0.6049      0.090     -6.731      0.000      -0.781      -0.429\n",
      "ma.L2          0.3796      0.100      3.800      0.000       0.184       0.575\n",
      "ma.L3          0.4881      0.111      4.391      0.000       0.270       0.706\n",
      "ma.L4          0.0397      0.091      0.438      0.662      -0.138       0.218\n",
      "sigma2         1.3803      0.046     29.695      0.000       1.289       1.471\n",
      "===================================================================================\n",
      "Ljung-Box (L1) (Q):                   0.00   Jarque-Bera (JB):              3189.22\n",
      "Prob(Q):                              0.99   Prob(JB):                         0.00\n",
      "Heteroskedasticity (H):               4.51   Skew:                             1.25\n",
      "Prob(H) (two-sided):                  0.00   Kurtosis:                        14.39\n",
      "===================================================================================\n",
      "\n",
      "Warnings:\n",
      "[1] Covariance matrix calculated using the outer product of gradients (complex-step).\n"
     ]
    }
   ],
   "source": [
    "arma_models = {}\n",
    "\n",
    "for order in order_list:\n",
    "    print(f\"Autoregressive lags: {order[0]}\")\n",
    "    print(f\"Moving average lags: {order[2]}\")\n",
    "\n",
    "    model = ARIMA(df_stoch[\"stoch_USDCAD\"], order=order)\n",
    "    results = model.fit()\n",
    "    print(results.summary())\n",
    "    arma_models[f\"ARMA({order[0][-1]},{order[2][-1]})\"] = results\n"
   ]
  },
  {
   "cell_type": "code",
   "execution_count": 179,
   "metadata": {
    "collapsed": false
   },
   "outputs": [
    {
     "name": "stdout",
     "output_type": "stream",
     "text": [
      "[[0.72848943]]\n",
      "[[0.72848943]]\n"
     ]
    }
   ],
   "source": [
    "compute_eigenvalues(arma_models[\"ARMA(1,1)\"])"
   ]
  },
  {
   "cell_type": "code",
   "execution_count": 59,
   "metadata": {
    "collapsed": false
   },
   "outputs": [
    {
     "data": {
      "text/plain": [
       "array([-0.19709864,  0.42946426])"
      ]
     },
     "execution_count": 59,
     "metadata": {},
     "output_type": "execute_result"
    }
   ],
   "source": [
    "arma_models[\"ARMA(2,2)\"].arparams"
   ]
  },
  {
   "cell_type": "code",
   "execution_count": null,
   "metadata": {
    "collapsed": false
   },
   "outputs": [],
   "source": [
    "df_stationarity = pd.DataFrame(index=arma_models.keys(), columns=[\"is_stationary\"])\n",
    "for model_name, model in arma_models.items():\n",
    "    eigenvalues = compute_eigenvalues(model)\n",
    "    df_stationarity.loc[model_name, \"is_stationary\"] = check_stationarity(eigenvalues)\n",
    "df_stationarity"
   ]
  },
  {
   "cell_type": "markdown",
   "metadata": {
    "collapsed": false
   },
   "source": [
    "2.b) Effectuez des tests de rapport de vraisemblance pour justifier la sélection de deux modèles. Sélectionnez d'abord le meilleur parmi AR(1), AR(2), AR(3) et AR(4). Sélectionnez ensuite le meilleur modèle parmi ARMA(1,1), ARMA(2,2), ARMA(3,3) et ARMA(4,4). Utilisez le BIC pour justifier la sélection du meilleur de ces deux modèles."
   ]
  },
  {
   "cell_type": "code",
   "execution_count": null,
   "metadata": {
    "collapsed": false
   },
   "outputs": [],
   "source": [
    "def compute_lr_statistic(reduced_ll: float, full_ll: float) -> float:\n",
    "    \"\"\"Compute the likelihood ratio statistic.\n",
    "    \n",
    "    Args: \n",
    "        reduced_ll (float): Log likehood of the reduced model.\n",
    "        full_ll (float): Log likehood of the full model.\n",
    "\n",
    "    Returns:\n",
    "        float: The Likehood-Ratio Test Statistics\n",
    "    \"\"\"\n",
    "    return -2 * (reduced_ll - full_ll)"
   ]
  },
  {
   "cell_type": "code",
   "execution_count": null,
   "metadata": {
    "collapsed": false
   },
   "outputs": [],
   "source": [
    "def compute_p_value_llr(reduced_ll: float, full_ll: float, df: int = 1) -> float:\n",
    "    \"\"\"Compute the p-value of the likelihood ratio test.\n",
    "    \n",
    "    Args: \n",
    "        reduced_ll (float): Log likehood of the reduced model.\n",
    "        full_ll (float): Log likehood of the full model.\n",
    "        df (int): Degree of freedom of the Chi-Square test.\n",
    "    \n",
    "    Returns:\n",
    "        float: Returns the p-value of the test. That is the probability that the full model is better than the reduced model.\n",
    "    \"\"\"\n",
    "    lr_statistic = compute_lr_statistic(reduced_ll=reduced_ll, full_ll=full_ll)\n",
    "    p_val = sp.stats.chi2.sf(lr_statistic, df=df)\n",
    "    return p_val"
   ]
  },
  {
   "cell_type": "markdown",
   "metadata": {
    "collapsed": false
   },
   "source": [
    "On commence par sélectionner le meilleur modèle parmi AR(1), AR(2), AR(3) et AR(4)."
   ]
  },
  {
   "cell_type": "markdown",
   "metadata": {
    "collapsed": false
   },
   "source": [
    "- H0: Le modèle complet ARMA(2,0) fit les données aussi bien que le modèle réduit ARMA(1,0). Par conséquent, on devrait choisir le modèle ARMA(1,0) car il est plus simple.\n",
    "- H1: Le modèle complet ARMA(2,0) fit mieux les données que le modèle réduit ARMA(1,0). Par conséquent, on devrait choisir le modèle ARMA(2,0) car il est plus précis."
   ]
  },
  {
   "cell_type": "code",
   "execution_count": null,
   "metadata": {
    "collapsed": false
   },
   "outputs": [],
   "source": [
    "compute_p_value_llr(arma_models[\"ARMA(1,0)\"].llf,\n",
    "                    arma_models[\"ARMA(2,0)\"].llf,\n",
    "                    df=1)"
   ]
  },
  {
   "cell_type": "markdown",
   "metadata": {
    "collapsed": false
   },
   "source": [
    "Comme la p-value est inférieur au seuil significatif de 5%, on rejette l'hypothèse nulle et on peut donc conclure que le modèle ARMA(2,0) fit mieux les données que le modèle ARMA(1,0)."
   ]
  },
  {
   "cell_type": "markdown",
   "metadata": {
    "collapsed": false
   },
   "source": [
    "- H0: Le modèle complet ARMA(3,0) fit les données aussi bien que le modèle réduit ARMA(2,0). Par conséquent, on devrait choisir le modèle ARMA(2,0) car il est plus simple.\n",
    "- H1: Le modèle complet ARMA(3,0) fit mieux les données que le modèle réduit ARMA(2,0). Par conséquent, on devrait choisir le modèle ARMA(3,0) car il est plus précis."
   ]
  },
  {
   "cell_type": "code",
   "execution_count": null,
   "metadata": {
    "collapsed": false
   },
   "outputs": [],
   "source": [
    "compute_p_value_llr(arma_models[\"ARMA(2,0)\"].llf,\n",
    "                    arma_models[\"ARMA(3,0)\"].llf,\n",
    "                    df=1)"
   ]
  },
  {
   "cell_type": "markdown",
   "metadata": {
    "collapsed": false
   },
   "source": [
    "Comme la p-value est inférieur au seuil significatif de 5%, on rejette l'hypothèse nulle et on peut donc conclure que le modèle ARMA(3,0) fit mieux les données que le modèle ARMA(2,0)."
   ]
  },
  {
   "cell_type": "markdown",
   "metadata": {
    "collapsed": false
   },
   "source": [
    "- H0: Le modèle complet ARMA(4,0) fit les données aussi bien que le modèle réduit ARMA(3,0). Par conséquent, on devrait choisir le modèle ARMA(3,0) car il est plus simple.\n",
    "- H1: Le modèle complet ARMA(4,0) fit mieux les données que le modèle réduit ARMA(3,0). Par conséquent, on devrait choisir le modèle ARMA(4,0) car il est plus précis."
   ]
  },
  {
   "cell_type": "code",
   "execution_count": null,
   "metadata": {
    "collapsed": false
   },
   "outputs": [],
   "source": [
    "compute_p_value_llr(arma_models[\"ARMA(3,0)\"].llf,\n",
    "                    arma_models[\"ARMA(4,0)\"].llf,\n",
    "                    df=1)"
   ]
  },
  {
   "cell_type": "markdown",
   "metadata": {
    "collapsed": false
   },
   "source": [
    "Comme la p-value est inférieur au seuil significatif de 5%, on rejette l'hypothèse nulle et on peut donc conclure que le modèle ARMA(4,0) fit mieux les données que le modèle ARMA(3,0)."
   ]
  },
  {
   "cell_type": "markdown",
   "metadata": {
    "collapsed": false
   },
   "source": [
    "**On peut donc conclure que d'après le test du ratio de vraisemblance, le modèle AR(4) est le meilleur modèle pour modéliser les données parmis les modèles AR.**"
   ]
  },
  {
   "cell_type": "markdown",
   "metadata": {
    "collapsed": false
   },
   "source": [
    "On utilise le même raisonnement mis avec maintenant des modèles ARMA(p, q) pour sélectionner le meilleur modèle parmi ARMA(1,1), ARMA(2,2), ARMA(3,3) et ARMA(4,4)."
   ]
  },
  {
   "cell_type": "markdown",
   "metadata": {
    "collapsed": false
   },
   "source": [
    "- H0: Le modèle complet ARMA(2,2) fit les données aussi bien que le modèle réduit ARMA(1,1). Par conséquent, on devrait choisir le modèle ARMA(1,1) car il est plus simple.\n",
    "- H1: Le modèle complet ARMA(2,2) fit mieux les données que le modèle réduit ARMA(1,1). Par conséquent, on devrait choisir le modèle ARMA(2,2) car il est plus précis."
   ]
  },
  {
   "cell_type": "code",
   "execution_count": null,
   "metadata": {
    "collapsed": false
   },
   "outputs": [],
   "source": [
    "compute_p_value_llr(arma_models[\"ARMA(1,1)\"].llf,\n",
    "                    arma_models[\"ARMA(2,2)\"].llf,\n",
    "                    df=2)"
   ]
  },
  {
   "cell_type": "markdown",
   "metadata": {
    "collapsed": false
   },
   "source": [
    "Comme la p-value est inférieur au seuil significatif de 5%, on rejette l'hypothèse nulle et on peut donc conclure que le modèle ARMA(2,2) fit mieux les données que le modèle ARMA(1,1)."
   ]
  },
  {
   "cell_type": "markdown",
   "metadata": {
    "collapsed": false
   },
   "source": [
    "- H0: Le modèle complet ARMA(3,3) fit les données aussi bien que le modèle réduit ARMA(2,2). Par conséquent, on devrait choisir le modèle ARMA(2,2) car il est plus simple.\n",
    "- H1: Le modèle complet ARMA(3,3) fit mieux les données que le modèle réduit ARMA(2,2). Par conséquent, on devrait choisir le modèle ARMA(3,3) car il est plus précis."
   ]
  },
  {
   "cell_type": "code",
   "execution_count": null,
   "metadata": {
    "collapsed": false
   },
   "outputs": [],
   "source": [
    "compute_p_value_llr(arma_models[\"ARMA(2,2)\"].llf,\n",
    "                    arma_models[\"ARMA(3,3)\"].llf,\n",
    "                    df=2)"
   ]
  },
  {
   "cell_type": "markdown",
   "metadata": {
    "collapsed": false
   },
   "source": [
    "Comme la p-value est supérieur au seuil significatif de 5%, on ne peut pas rejeter l'hypothèse nulle et on peut donc conclure que le modèle ARMA(2,2) fit aussi bien les données que le modèle ARMA(3,3). Par conséquent, on devrait choisir le modèle ARMA(2,2) car il est plus simple."
   ]
  },
  {
   "cell_type": "code",
   "execution_count": null,
   "metadata": {
    "collapsed": false
   },
   "outputs": [],
   "source": [
    "compute_p_value_llr(arma_models[\"ARMA(2,2)\"].llf,\n",
    "                    arma_models[\"ARMA(4,4)\"].llf,\n",
    "                    df=4)"
   ]
  },
  {
   "attachments": {},
   "cell_type": "markdown",
   "metadata": {
    "collapsed": false
   },
   "source": [
    "**On peut donc conclure que d'après le test du ratio de vraisemblance, le modèle ARMA(2,2) est le meilleur modèle pour modéliser les données parmis les modèles ARMA.**"
   ]
  },
  {
   "cell_type": "code",
   "execution_count": null,
   "metadata": {
    "collapsed": false
   },
   "outputs": [],
   "source": [
    "# BIC test between AR(4) and ARMA(2,2)\n",
    "arma_models[\"ARMA(2,2)\"].bic, arma_models[\"ARMA(4,0)\"].bic"
   ]
  },
  {
   "cell_type": "code",
   "execution_count": null,
   "metadata": {
    "collapsed": false
   },
   "outputs": [],
   "source": [
    "df_bic = pd.DataFrame({\"BIC\": [arma_models[\"ARMA(2,2)\"].bic, arma_models[\"ARMA(4,0)\"].bic]},\n",
    "                      index=[\"ARMA(2,2)\", \"AR(4)\"])\n",
    "df_bic"
   ]
  },
  {
   "cell_type": "markdown",
   "metadata": {
    "collapsed": false
   },
   "source": [
    "On remarque que le BIC du modèle AR(4) est plus petit que celui du modèle ARMA(2,2). Par conséquent, et d'après le critère d'information de Bayes, le modèle AR(4) est le meilleur modèle pour modéliser les données."
   ]
  },
  {
   "cell_type": "code",
   "execution_count": null,
   "metadata": {
    "collapsed": false
   },
   "outputs": [],
   "source": [
    "#2c evaluate the white noise hypothesis for each of the two models.\n",
    "resid_arma_2_2 = arma_models[\"ARMA(2,2)\"].resid\n",
    "resid_arma_4_0 = arma_models[\"ARMA(4,0)\"].resid\n",
    "resid_arma_1_0 = arma_models[\"ARMA(1,0)\"].resid\n"
   ]
  },
  {
   "cell_type": "code",
   "execution_count": null,
   "metadata": {
    "collapsed": false
   },
   "outputs": [],
   "source": [
    "sm.stats.acorr_ljungbox(resid_arma_2_2, lags=18, return_df=True)"
   ]
  },
  {
   "cell_type": "code",
   "execution_count": null,
   "metadata": {
    "collapsed": false
   },
   "outputs": [],
   "source": [
    "# check that all lb_pvalues are > 0.05\n",
    "all(sm.stats.acorr_ljungbox(resid_arma_2_2, lags=18, return_df=True).lb_pvalue > 0.05)"
   ]
  },
  {
   "cell_type": "markdown",
   "metadata": {
    "collapsed": false
   },
   "source": [
    "Après avoir effectué le test de Ljung-Box sur le modèle ARMA(2,2), on remarque que la p-value est supérieur au seuil significatif de 5% pour tous les 18 lags. Par conséquent, on ne peut pas rejeter l'hypothèse nulle que le terme d'erreur possède des autocorrélations de 0. Par conséquent, on peut conclure que le terme d'erreur du modèle ARMA(2,2) est un bruit blanc."
   ]
  },
  {
   "cell_type": "code",
   "execution_count": null,
   "metadata": {
    "collapsed": false
   },
   "outputs": [],
   "source": [
    "# autocorrelation plot to confirm our results\n",
    "fig, ax = plt.subplots(figsize=(15, 6))\n",
    "fig = sm.graphics.tsa.plot_acf(resid_arma_2_2, lags=18, ax=ax)\n"
   ]
  },
  {
   "cell_type": "code",
   "execution_count": null,
   "metadata": {
    "collapsed": false
   },
   "outputs": [],
   "source": [
    "sm.stats.acorr_ljungbox(resid_arma_4_0, lags=18, return_df=True)"
   ]
  },
  {
   "cell_type": "code",
   "execution_count": null,
   "metadata": {
    "collapsed": false
   },
   "outputs": [],
   "source": [
    "# check that all lb_pvalues are > 0.05\n",
    "sm.stats.acorr_ljungbox(resid_arma_4_0, lags=18, return_df=True).lb_pvalue > 0.05"
   ]
  },
  {
   "cell_type": "markdown",
   "metadata": {
    "collapsed": false
   },
   "source": [
    "Après avoir effectué le test de Ljung-Box sur le modèle AR(4), on remarque que la p-value est supérieur au seuil significatif de 5% pour tous les 18 lags. Par conséquent, on ne peut pas rejeter l'hypothèse nulle que le terme d'erreur possède des autocorrélations de 0. Par conséquent, on peut conclure que le terme d'erreur du modèle AR(4) est un bruit blanc."
   ]
  },
  {
   "cell_type": "code",
   "execution_count": null,
   "metadata": {
    "collapsed": false
   },
   "outputs": [],
   "source": [
    "# autocorrelation plot\n",
    "fig, ax = plt.subplots(figsize=(15, 6))\n",
    "fig = sm.graphics.tsa.plot_acf(resid_arma_4_0, lags=18, ax=ax)"
   ]
  },
  {
   "cell_type": "code",
   "execution_count": null,
   "metadata": {
    "collapsed": false
   },
   "outputs": [],
   "source": [
    "sm.stats.acorr_ljungbox(resid_arma_1_0, lags=18, return_df=True)"
   ]
  },
  {
   "cell_type": "code",
   "execution_count": null,
   "metadata": {
    "collapsed": false
   },
   "outputs": [],
   "source": [
    "# check that all lb_pvalues are < 0.05\n",
    "all(sm.stats.acorr_ljungbox(resid_arma_1_0, lags=18, return_df=True).lb_pvalue < 0.05)"
   ]
  },
  {
   "cell_type": "markdown",
   "metadata": {
    "collapsed": false
   },
   "source": [
    "Après avoir effectué le test de Ljung-Box sur le modèle AR(1), on remarque que la p-value est inférieur au seuil significatif de 5% pour tous les 18 lags. Par conséquent, on peut rejeter l'hypothèse nulle que le terme d'erreur possède des autocorrélations de 0. Par conséquent, on peut conclure que le terme d'erreur du modèle AR(1) n'est pas un bruit blanc."
   ]
  },
  {
   "cell_type": "markdown",
   "metadata": {
    "collapsed": false
   },
   "source": [
    "# Réponse dynamique et prédiction"
   ]
  },
  {
   "cell_type": "markdown",
   "metadata": {
    "collapsed": false
   },
   "source": [
    "3.a) Pour les deux modèles sélectionnés, évaluez la réponse dynamique pour un horizon de 10 périodes suite à un choc positif de taille $\\sigma = 1.15$ survenant à la première période de l'horizon. Tracez les deux fonctions de réponse impulsionnelle sur la même figure et commentez."
   ]
  },
  {
   "cell_type": "code",
   "execution_count": null,
   "metadata": {
    "collapsed": false
   },
   "outputs": [],
   "source": [
    "sigma = 1.15"
   ]
  },
  {
   "cell_type": "code",
   "execution_count": null,
   "metadata": {
    "collapsed": false
   },
   "outputs": [],
   "source": [
    "impulse_res_arma22 = arma_models[\"ARMA(2,2)\"].impulse_responses(steps=10, impulse=[sigma])"
   ]
  },
  {
   "cell_type": "code",
   "execution_count": null,
   "metadata": {
    "collapsed": false
   },
   "outputs": [],
   "source": [
    "impulse_res_arma40 = arma_models[\"ARMA(4,0)\"].impulse_responses(steps=10, impulse=[sigma])"
   ]
  },
  {
   "cell_type": "code",
   "execution_count": null,
   "metadata": {
    "collapsed": false
   },
   "outputs": [],
   "source": [
    "plt.plot(impulse_res_arma22, label=\"ARMA(2,2)\")\n",
    "plt.plot(impulse_res_arma40, label=\"ARMA(4,0)\", linestyle=\"--\")\n",
    "plt.legend()\n",
    "plt.title(\"Impulse response function\")\n",
    "plt.xlabel(\"Time\")\n",
    "plt.ylabel(\"Impulse response\")\n",
    "plt.show()"
   ]
  },
  {
   "cell_type": "markdown",
   "metadata": {
    "collapsed": false
   },
   "source": [
    "3.b) Un choc négatif de taille $\\sigma = 1.15$ se produit pendant 3 périodes consécutives de l'horizon (t, t+1, t+2). Tracez les deux fonctions de réponse impulsionnelle pour les deux modèles sélectionnés,\n",
    "montrant la réponse dynamique pour un horizon de 20 périodes après ces chocs, et expliquez ce qui se passe."
   ]
  },
  {
   "cell_type": "code",
   "execution_count": null,
   "metadata": {
    "collapsed": false
   },
   "outputs": [],
   "source": [
    "steps = 20"
   ]
  },
  {
   "cell_type": "code",
   "execution_count": null,
   "metadata": {
    "collapsed": false
   },
   "outputs": [],
   "source": [
    "def compute_three_impulse(arma_model, sigma, steps):\n",
    "    first_impulse = arma_model.impulse_responses(steps=steps, impulse=[-sigma])\n",
    "    second_impulse = first_impulse\n",
    "    second_impulse = pd.concat([pd.Series([0]), second_impulse], ignore_index=True)\n",
    "    second_impulse = second_impulse[0:-1]\n",
    "    third_impulse = first_impulse\n",
    "    third_impulse = pd.concat([pd.Series([0, 0]), third_impulse], ignore_index=True)\n",
    "    third_impulse = third_impulse[0:-2]\n",
    "    total_impulse = first_impulse + second_impulse + third_impulse\n",
    "    return total_impulse"
   ]
  },
  {
   "cell_type": "code",
   "execution_count": null,
   "metadata": {
    "collapsed": false
   },
   "outputs": [],
   "source": [
    "arma22_total_impulse = compute_three_impulse(arma_models[\"ARMA(2,2)\"], sigma, steps)\n",
    "arma40_total_impulse = compute_three_impulse(arma_models[\"ARMA(4,0)\"], sigma, steps)\n",
    "arma22_total_impulse"
   ]
  },
  {
   "cell_type": "code",
   "execution_count": null,
   "metadata": {
    "collapsed": false
   },
   "outputs": [],
   "source": [
    "plt.plot(arma22_total_impulse, label=\"ARMA(2,2)\")\n",
    "plt.plot(arma40_total_impulse, label=\"ARMA(4,0)\", linestyle=\"--\")\n",
    "plt.legend()\n",
    "plt.title(\"Impulse response function\")\n",
    "plt.xlabel(\"Time\")\n",
    "plt.ylabel(\"Impulse response\")\n",
    "plt.show()"
   ]
  },
  {
   "cell_type": "markdown",
   "metadata": {
    "collapsed": false
   },
   "source": [
    "3.c) Prévision : Divisez l'échantillon en un échantillon d'entraînement (training sample) et un échantillon de validation (holdout sample). L'échantillon de validation devrait être composé des 34 dernières observations.\n",
    "\n",
    "• Ré-estimez les deux modèles sélectionnés en utilisant uniquement l'échantillon d'entraînement.\n",
    "• Pour chacun des deux modèles, calculez les prévisions à un pas en avant : $\\mathbb{E}_t(USDCAD_{t+1})$ pour les\n",
    "modèles AR(4) et ARMA(4,4). Ces prévisions conditionnelles ne sont pas les mêmes !\n",
    "• Tracez ces prévisions avec la série réelle (différence première) sur le même graphique pour la période\n",
    "couverte par l'échantillon de validation.\n",
    "• Tracez la série réelle (données brutes en niveaux) contre les prévisions à un pas d'avance et la prévision\n",
    "naïve : $\\mathbb{E}_t(USDCAD_{t+1}) = USDCAD_t$.\n",
    "\n"
   ]
  },
  {
   "cell_type": "code",
   "execution_count": null,
   "metadata": {
    "collapsed": false
   },
   "outputs": [],
   "source": [
    "treshold = 34\n",
    "\n",
    "train_sample = df_stoch[\"stoch_USDCAD\"].iloc[:-treshold]\n",
    "val_sample = df_stoch[\"stoch_USDCAD\"].iloc[-treshold:]"
   ]
  },
  {
   "cell_type": "code",
   "execution_count": null,
   "metadata": {
    "collapsed": false
   },
   "outputs": [],
   "source": [
    "len(train_sample), len(val_sample)"
   ]
  },
  {
   "cell_type": "code",
   "execution_count": null,
   "metadata": {
    "collapsed": false
   },
   "outputs": [],
   "source": [
    "train_sample.tail(), val_sample.head(), val_sample.tail()"
   ]
  },
  {
   "cell_type": "code",
   "execution_count": null,
   "metadata": {
    "collapsed": false
   },
   "outputs": [],
   "source": [
    "order_list = [([1, 2, 3, 4], 0, [0]),\n",
    "               ([1, 2], 0, [1, 2]),\n",
    "               ([1, 2, 3, 4], 0, [1, 2, 3, 4])]"
   ]
  },
  {
   "cell_type": "code",
   "execution_count": null,
   "metadata": {
    "collapsed": false
   },
   "outputs": [],
   "source": [
    "arma_models2 = {}\n",
    "\n",
    "for order in order_list:\n",
    "    print(f\"Autoregressive lags: {order[0]}\")\n",
    "    print(f\"Moving average lags: {order[2]}\")\n",
    "\n",
    "    model = ARIMA(train_sample, order=order)\n",
    "    results = model.fit()\n",
    "    print(results.summary())\n",
    "    arma_models2[f\"ARMA({order[0][-1]},{order[2][-1]})\"] = results"
   ]
  },
  {
   "cell_type": "code",
   "execution_count": null,
   "metadata": {
    "collapsed": false
   },
   "outputs": [],
   "source": [
    "# Compute predictions for one periode ahead\n",
    "forecast_arma40 = arma_models2[\"ARMA(4,0)\"].forecast(steps=treshold).reset_index(drop=True)\n",
    "forecast_arma40"
   ]
  },
  {
   "cell_type": "code",
   "execution_count": null,
   "metadata": {
    "collapsed": false
   },
   "outputs": [],
   "source": [
    "forecast_arma44 = arma_models2[\"ARMA(4,4)\"].forecast(steps=treshold).reset_index(drop=True)"
   ]
  },
  {
   "cell_type": "code",
   "execution_count": null,
   "metadata": {
    "collapsed": false
   },
   "outputs": [],
   "source": [
    "val_sample.reset_index(drop=True)"
   ]
  },
  {
   "cell_type": "code",
   "execution_count": null,
   "metadata": {
    "collapsed": false
   },
   "outputs": [],
   "source": [
    "forecast_naive = np.zeros(treshold)\n",
    "forecast_naive[0] = train_sample.iloc[-1]"
   ]
  },
  {
   "cell_type": "code",
   "execution_count": null,
   "metadata": {
    "collapsed": false
   },
   "outputs": [],
   "source": [
    "forecast_naive[1:] = val_sample.iloc[:-1]\n",
    "len(forecast_naive)"
   ]
  },
  {
   "cell_type": "code",
   "execution_count": null,
   "metadata": {
    "collapsed": false
   },
   "outputs": [],
   "source": [
    "# change index to date for plotting\n",
    "forecast_arma40.index = df_stoch[\"date\"].iloc[-treshold:]\n",
    "forecast_arma44.index = df_stoch[\"date\"].iloc[-treshold:]\n",
    "val_sample.index = df_stoch[\"date\"].iloc[-treshold:]\n",
    "forecast_naive = pd.Series(forecast_naive, index=df_stoch[\"date\"].iloc[-treshold:])\n",
    "forecast_arma40"
   ]
  },
  {
   "cell_type": "code",
   "execution_count": null,
   "metadata": {
    "collapsed": false
   },
   "outputs": [],
   "source": [
    "plt.plot(val_sample, label=\"Real data\")\n",
    "plt.plot(forecast_arma40, label=\"ARMA(4,0)\", linestyle=\"--\")\n",
    "plt.plot(forecast_arma44, label=\"ARMA(4,4)\", linestyle=\"--\")\n",
    "plt.plot(forecast_naive, label=\"Naive forecast\", linestyle=\"--\")\n",
    "plt.legend()\n",
    "plt.title(\"Forecast\")\n",
    "plt.xlabel(\"Time\")\n",
    "# rotate xticks by 45 degrees\n",
    "plt.xticks(rotation=45)\n",
    "plt.ylabel(\"Forecast\")\n",
    "plt.show()"
   ]
  },
  {
   "cell_type": "markdown",
   "metadata": {
    "collapsed": false
   },
   "source": [
    "3.d) Indiquez l'erreur quadratique moyenne pour chaque modèle en utilisant uniquement l'échantillon de 34 observations pour évaluer la performance de la prévision. Comparez ces statistiques à l'estimateur naïf suivant : $\\mathbb{E}_t(y_{t+1}) = y_t$pour h=1 seulement. Quel modèle devrions-nous utiliser dans chaque cas ?\n"
   ]
  },
  {
   "cell_type": "code",
   "execution_count": null,
   "metadata": {
    "collapsed": false
   },
   "outputs": [],
   "source": [
    "def compute_mse(y_true, y_pred):\n",
    "    return np.mean((y_true - y_pred) ** 2)"
   ]
  },
  {
   "cell_type": "code",
   "execution_count": null,
   "metadata": {
    "collapsed": false
   },
   "outputs": [],
   "source": [
    "mse_arma40 = compute_mse(val_sample, forecast_arma40)\n",
    "mse_arma44 = compute_mse(val_sample, forecast_arma44)\n",
    "mse_naive = compute_mse(val_sample, forecast_naive)"
   ]
  },
  {
   "cell_type": "code",
   "execution_count": null,
   "metadata": {
    "collapsed": false
   },
   "outputs": [],
   "source": [
    "mse_df = pd.DataFrame({\"ARMA(4,0)\": mse_arma40,\n",
    "                       \"ARMA(4,4)\": mse_arma44,\n",
    "                       \"Naive forecast\": mse_naive},\n",
    "                      index=[\"MSE\"])\n",
    "mse_df"
   ]
  },
  {
   "cell_type": "markdown",
   "metadata": {
    "collapsed": false
   },
   "source": [
    "# Partie 4. Améliorations supplémentaires par la modélisation de la variance conditionnelle (30 points)"
   ]
  },
  {
   "cell_type": "markdown",
   "metadata": {
    "collapsed": false
   },
   "source": [
    "4.a) Tracez les fonctions d'autocorrélation et d'autocorrélation partielle de $y_t^2$. Que pouvez-vous conclure ?"
   ]
  },
  {
   "cell_type": "code",
   "execution_count": null,
   "metadata": {
    "collapsed": false
   },
   "outputs": [],
   "source": [
    "df_stoch[\"stoch_USDCAD**2\"] = df_stoch[\"stoch_USDCAD\"] ** 2"
   ]
  },
  {
   "cell_type": "code",
   "execution_count": null,
   "metadata": {
    "collapsed": false
   },
   "outputs": [],
   "source": [
    "#plot autocorrelation\n",
    "sm.graphics.tsa.plot_acf(df_stoch[\"stoch_USDCAD**2\"], lags=18, title=f\"Autocorrelation plot of $y_t^2$\");"
   ]
  },
  {
   "cell_type": "code",
   "execution_count": null,
   "metadata": {
    "collapsed": false
   },
   "outputs": [],
   "source": [
    "# plot partial autocorrelation\n",
    "sm.graphics.tsa.plot_pacf(df_stoch[\"stoch_USDCAD**2\"], lags=18, title=f\"Partial autocorrelation plot of $y_t^2$\");"
   ]
  },
  {
   "cell_type": "markdown",
   "metadata": {
    "collapsed": false
   },
   "source": [
    "4.b) Estimez les versions ARCH(1) et GARCH(1,1) des deux modèles sélectionnés par maximum de vraisemblance en utilisant seulement l'échantillon d'entraînement, et rapportez les estimations.\n"
   ]
  },
  {
   "cell_type": "code",
   "execution_count": null,
   "metadata": {
    "collapsed": false
   },
   "outputs": [],
   "source": [
    "# estimate ARCH(1) model\n",
    "arch1 = arch_model(train_sample, p=1, q=0, vol=\"ARCH\")\n",
    "arch1_results = arch1.fit()\n",
    "arch1_results.summary()\n"
   ]
  },
  {
   "cell_type": "code",
   "execution_count": null,
   "metadata": {
    "collapsed": false
   },
   "outputs": [],
   "source": [
    "garch11 = arch_model(train_sample, p=1, q=1, vol=\"GARCH\")\n",
    "garch11_results = garch11.fit()\n",
    "garch11_results.summary()"
   ]
  },
  {
   "cell_type": "markdown",
   "metadata": {
    "collapsed": false
   },
   "source": [
    "4.c) Effectuez des tests de rapport de vraisemblance pour sélectionner un modèle entre AR(4), AR(4) ARCH(1), et AR(4) GARCH(1,1). Répétez cette procédure pour sélectionner un modèle entre ARMA(4,4), ARMA(4,4) ARCH(1), et ARMA(4,4) GARCH(1,1).\n"
   ]
  },
  {
   "cell_type": "code",
   "execution_count": null,
   "metadata": {
    "collapsed": false
   },
   "outputs": [],
   "source": [
    "def compute_arima_garch_models(train_sample: pd.Series,\n",
    "                               p_arima: int,\n",
    "                               q_arima: int,\n",
    "                               p_garch: int,\n",
    "                               q_garch: int,\n",
    "                               vol: str = \"GARCH\"):\n",
    "    \"\"\"Compute ARIMA and GARCH models.\"\"\"\n",
    "    # Estimate ARIMA model\n",
    "    arima = ARIMA(train_sample, order=(p_arima, 0, q_arima))\n",
    "    arima_results = arima.fit()\n",
    "    arima_resid = arima_results.resid\n",
    "\n",
    "    # Estimate GARCH model\n",
    "    garch = arch_model(arima_resid, p=p_garch, q=q_garch, vol=vol)\n",
    "    garch_results = garch.fit(disp=\"off\")\n",
    "\n",
    "    return arima_results, garch_results\n"
   ]
  },
  {
   "cell_type": "code",
   "execution_count": null,
   "metadata": {
    "collapsed": false
   },
   "outputs": [],
   "source": [
    "# Estimate a AR(4)ARCH(1) model\n",
    "ar4, ar4arch1 = compute_arima_garch_models(train_sample, p_arima=4, q_arima=0, p_garch=1, q_garch=1, vol=\"ARCH\")\n",
    "ar4arch1.summary()\n"
   ]
  },
  {
   "cell_type": "code",
   "execution_count": null,
   "metadata": {
    "collapsed": false
   },
   "outputs": [],
   "source": [
    "# Estimate a AR(4)GARCH(1,1) model\n",
    "ar4, ar4garch11 = compute_arima_garch_models(train_sample, p_arima=4, q_arima=0, p_garch=1, q_garch=1, vol=\"GARCH\")\n",
    "# Estimate a ARMA(4,4)GARCH(1,1) model\n",
    "arma44, arma44garch11 = compute_arima_garch_models(train_sample, p_arima=4, q_arima=4, p_garch=1, q_garch=1, vol=\"GARCH\")\n",
    "# Estimate a ARMA(4,4)ARCH(1) model\n",
    "arma44, arma44arch1 = compute_arima_garch_models(train_sample, p_arima=4, q_arima=4, p_garch=1, q_garch=0, vol=\"ARCH\")"
   ]
  },
  {
   "cell_type": "code",
   "execution_count": null,
   "metadata": {},
   "outputs": [],
   "source": [
    "ar4garch11"
   ]
  },
  {
   "cell_type": "markdown",
   "metadata": {
    "collapsed": false
   },
   "source": [
    "- H0: Le modèle complet AR(4)-ARCH(1) fit les données aussi bien que le modèle réduit AR(4). Par conséquent, on devrait choisir le modèle AR(4) car il est plus simple.\n",
    "- H1: Le modèle complet AR(4)-ARCH(1) fit mieux les données que le modèle réduit AR(4). Par conséquent, on devrait choisir le modèle AR(4)-ARCH(1) car il est plus précis."
   ]
  },
  {
   "cell_type": "code",
   "execution_count": null,
   "metadata": {
    "collapsed": false
   },
   "outputs": [],
   "source": [
    "compute_p_value_llr(ar4.llf,\n",
    "                    ar4arch1.loglikelihood,\n",
    "                    df=2)"
   ]
  },
  {
   "cell_type": "markdown",
   "metadata": {
    "collapsed": false
   },
   "source": [
    "Comme la p-value est inférieure à 0.05, on rejette l'hypothèse nulle et on choisit le modèle AR(4)-ARCH(1)."
   ]
  },
  {
   "cell_type": "markdown",
   "metadata": {
    "collapsed": false
   },
   "source": [
    "- H0: Le modèle complet AR(4)-GARCH(1,1) fit les données aussi bien que le modèle réduit AR(4)-ARCH(1). Par conséquent, on devrait choisir le modèle ARMA(4,4) car il est plus simple.\n",
    "- H1: Le modèle complet AR(4)-GARCH(1,1) fit mieux les données que le modèle réduit AR(4)-ARCH(1). Par conséquent, on devrait choisir le modèle AR(4)-GARCH(1,1) car il est plus précis."
   ]
  },
  {
   "cell_type": "code",
   "execution_count": null,
   "metadata": {
    "collapsed": false
   },
   "outputs": [],
   "source": [
    "compute_p_value_llr(ar4arch1.loglikelihood,\n",
    "                    ar4garch11.loglikelihood,\n",
    "                    df=1)"
   ]
  },
  {
   "cell_type": "markdown",
   "metadata": {
    "collapsed": false
   },
   "source": [
    "Comme la p-value est inférieure à 0.05, on rejette l'hypothèse nulle et on choisit le modèle AR(4)-GARCH(1,1)."
   ]
  },
  {
   "cell_type": "markdown",
   "metadata": {
    "collapsed": false
   },
   "source": [
    "- H0: Le modèle complet ARMA(4,4)-ARCH(1) fit les données aussi bien que le modèle réduit ARMA(4,4). Par conséquent, on devrait choisir le modèle ARMA(4,4) car il est plus simple.\n",
    "- H1: Le modèle complet ARMA(4,4)-ARCH(1) fit mieux les données que le modèle réduit ARMA(4,4). Par conséquent, on devrait choisir le modèle ARMA(4,4)-ARCH(1) car il est plus précis."
   ]
  },
  {
   "cell_type": "code",
   "execution_count": null,
   "metadata": {
    "collapsed": false
   },
   "outputs": [],
   "source": [
    "compute_p_value_llr(arma44.llf,\n",
    "                    arma44arch1.loglikelihood,\n",
    "                    df=2)"
   ]
  },
  {
   "cell_type": "markdown",
   "metadata": {
    "collapsed": false
   },
   "source": [
    "Comme la p-value est inférieure à 0.05, on ne peut pas rejeter l'hypothèse nulle et on choisit le modèle ARMA(4,4)."
   ]
  },
  {
   "cell_type": "markdown",
   "metadata": {
    "collapsed": false
   },
   "source": [
    "- H0: Le modèle complet ARMA(4,4)-GARCH(1,1) fit les données aussi bien que le modèle réduit ARMA(4,4)-ARCH(1). Par conséquent, on devrait choisir le modèle ARMA(4,4)-ARCH(1) car il est plus simple.\n",
    "- H1: Le modèle complet ARMA(4,4)-GARCH(1,1) fit mieux les données que le modèle réduit ARMA(4,4)-ARCH(1). Par conséquent, on devrait choisir le modèle ARMA(4,4)-GARCH(1,1) car il est plus précis."
   ]
  },
  {
   "cell_type": "code",
   "execution_count": null,
   "metadata": {
    "collapsed": false
   },
   "outputs": [],
   "source": [
    "compute_p_value_llr(arma44arch1.loglikelihood,\n",
    "                    arma44garch11.loglikelihood,\n",
    "                    df=1)"
   ]
  },
  {
   "cell_type": "markdown",
   "metadata": {
    "collapsed": false
   },
   "source": [
    "Comme la p-value est inférieure à 0.05, on rejette l'hypothèse nulle et on choisit le modèle ARMA(4,4)-GARCH(1,1)."
   ]
  },
  {
   "cell_type": "markdown",
   "metadata": {
    "collapsed": false
   },
   "source": [
    "- H0: Le modèle complet ARMA(4,4)-GARCH(1,1) fit les données aussi bien que le modèle réduit ARMA(4,4). Par conséquent, on devrait choisir le modèle ARMA(4,4) car il est plus simple.\n",
    "- H1: Le modèle complet ARMA(4,4)-GARCH(1,1) fit mieux les données que le modèle réduit ARMA(4,4). Par conséquent, on devrait choisir le modèle ARMA(4,4)-GARCH(1,1) car il est plus précis."
   ]
  },
  {
   "cell_type": "code",
   "execution_count": null,
   "metadata": {
    "collapsed": false
   },
   "outputs": [],
   "source": [
    "compute_p_value_llr(arma44.llf,\n",
    "                    arma44garch11.loglikelihood,\n",
    "                    df=3)"
   ]
  },
  {
   "cell_type": "markdown",
   "metadata": {
    "collapsed": false
   },
   "source": [
    "Comme la p-value est inférieure à 0.05, on rejette l'hypothèse nulle et on choisit le modèle ARMA(4,4)-GARCH(1,1)."
   ]
  },
  {
   "cell_type": "markdown",
   "metadata": {
    "collapsed": false
   },
   "source": [
    "**On devrait donc choisir le modèle ARMA(4,4)-GARCH(1,1) et AR(4)-GARCH(1,1) d'après le critère du ratio de vraisemblance.**"
   ]
  },
  {
   "cell_type": "markdown",
   "metadata": {
    "collapsed": false
   },
   "source": [
    "4.d) Effectuez un test de spécification sur les résidus pour AR(4) ARCH(1) et AR(4) GARCH(1,1). Quel est le meilleur modèle pour la variance conditionnelle ?"
   ]
  },
  {
   "cell_type": "code",
   "execution_count": null,
   "metadata": {
    "collapsed": false
   },
   "outputs": [],
   "source": [
    "def compute_specification_test(resid_square: pd.Series, h_t: pd.Series) -> pd.Series:\n",
    "    \"\"\"\n",
    "    Compute the specification test for the conditional variance\n",
    "    :param resid_square: the squared residuals\n",
    "    :param h_t: the conditional variance\n",
    "    :return: the specification test\n",
    "    \"\"\"\n",
    "    return resid_square / h_t"
   ]
  },
  {
   "cell_type": "code",
   "execution_count": null,
   "metadata": {
    "collapsed": false
   },
   "outputs": [],
   "source": [
    "ar4arch1_resid_sq = ar4arch1.resid.reset_index(drop=True) ** 2\n",
    "ar4garch11_resid_sq = ar4garch11.resid.reset_index(drop=True) ** 2"
   ]
  },
  {
   "cell_type": "code",
   "execution_count": null,
   "metadata": {
    "collapsed": false
   },
   "outputs": [],
   "source": [
    "#get ar4arch1 parameters\n",
    "alpha_0 = ar4arch1.params.iloc[1]\n",
    "alpha_1 = ar4arch1.params.iloc[2]\n",
    "\n"
   ]
  },
  {
   "cell_type": "code",
   "execution_count": null,
   "metadata": {},
   "outputs": [],
   "source": [
    "garch11"
   ]
  },
  {
   "cell_type": "code",
   "execution_count": null,
   "metadata": {},
   "outputs": [],
   "source": [
    "ar4arch1.params"
   ]
  },
  {
   "cell_type": "code",
   "execution_count": null,
   "metadata": {
    "collapsed": false
   },
   "outputs": [],
   "source": [
    "# Compute variance of AR(4) ARCH(1) model\n",
    "arch4arch1_h = np.zeros(len(ar4arch1_resid_sq))\n",
    "# initial guess for conditionnal variance\n",
    "arch4arch1_h[0] = alpha_0 / (1 - alpha_1)"
   ]
  },
  {
   "cell_type": "code",
   "execution_count": null,
   "metadata": {
    "collapsed": false
   },
   "outputs": [],
   "source": [
    "for i in range(1, len(ar4arch1_resid_sq)):\n",
    "    arch4arch1_h[i] = alpha_0 + alpha_1 * ar4arch1_resid_sq[i-1]"
   ]
  },
  {
   "cell_type": "code",
   "execution_count": null,
   "metadata": {
    "collapsed": false
   },
   "outputs": [],
   "source": [
    "# get ar4garch11 parameters\n",
    "alpha_0 = ar4garch11.params.iloc[1]\n",
    "alpha_1 = ar4garch11.params.iloc[2]\n",
    "beta_1 = ar4garch11.params.iloc[3]"
   ]
  },
  {
   "cell_type": "code",
   "execution_count": null,
   "metadata": {
    "collapsed": false
   },
   "outputs": [],
   "source": [
    "# Compute variance of AR(4) GARCH(1,1) model\n",
    "arch4garch11_h = np.zeros(len(ar4garch11_resid_sq))\n",
    "# initial guess\n",
    "arch4garch11_h[0] = alpha_0 / (1 - alpha_1 - beta_1)"
   ]
  },
  {
   "cell_type": "code",
   "execution_count": null,
   "metadata": {
    "collapsed": false
   },
   "outputs": [],
   "source": [
    "for i in range(1, len(ar4garch11_resid_sq)):\n",
    "    arch4garch11_h[i] = alpha_0 + alpha_1 * ar4garch11_resid_sq[i-1] + beta_1 * arch4garch11_h[i-1]"
   ]
  },
  {
   "cell_type": "code",
   "execution_count": null,
   "metadata": {
    "collapsed": false
   },
   "outputs": [],
   "source": [
    "# Compute specification test\n",
    "ar4arch1_spec_test = compute_specification_test(ar4arch1_resid_sq, arch4arch1_h)\n",
    "ar4garch11_spec_test = compute_specification_test(ar4garch11_resid_sq, arch4garch11_h)\n"
   ]
  },
  {
   "cell_type": "code",
   "execution_count": null,
   "metadata": {
    "collapsed": false
   },
   "outputs": [],
   "source": [
    "# Use ljung box test on the specification test\n",
    "ar4arch1_ljung_box = sm.stats.acorr_ljungbox(ar4arch1_spec_test, lags=18)\n",
    "ar4arch1_ljung_box\n"
   ]
  },
  {
   "cell_type": "code",
   "execution_count": null,
   "metadata": {
    "collapsed": false
   },
   "outputs": [],
   "source": [
    "# plot the acf of the specification test\n",
    "sm.graphics.tsa.plot_acf(ar4arch1_spec_test, lags=18, title=\"AR(4) ARCH(1) Specification Test ACF\")\n"
   ]
  },
  {
   "cell_type": "code",
   "execution_count": null,
   "metadata": {
    "collapsed": false
   },
   "outputs": [],
   "source": [
    "ar4garch11_ljung_box = sm.stats.acorr_ljungbox(ar4garch11_spec_test, lags=18)\n",
    "ar4garch11_ljung_box"
   ]
  },
  {
   "cell_type": "code",
   "execution_count": null,
   "metadata": {
    "collapsed": false
   },
   "outputs": [],
   "source": [
    "sm.graphics.tsa.plot_acf(ar4garch11_spec_test, lags=18, title=\"AR(4) GARCH(1,1) Specification Test ACF\")"
   ]
  },
  {
   "cell_type": "markdown",
   "metadata": {
    "collapsed": false
   },
   "source": [
    "4.e) Pour ces deux nouveaux modèles et les deux modèles étudiés dans la partie 3, tracez les fonctions de réponse impulsionnelle du second cas décrit dans la partie 3. Dans quelle mesure sont-elles différentes ?"
   ]
  },
  {
   "attachments": {},
   "cell_type": "markdown",
   "metadata": {},
   "source": [
    "Working on it"
   ]
  },
  {
   "cell_type": "code",
   "execution_count": null,
   "metadata": {
    "collapsed": false
   },
   "outputs": [],
   "source": [
    "import matlab.engine\n",
    "eng = matlab.engine.start_matlab()"
   ]
  },
  {
   "cell_type": "code",
   "execution_count": null,
   "metadata": {},
   "outputs": [],
   "source": [
    "mat_USDCAD = matlab.double(list(df_stoch[\"stoch_USDCAD\"]))\n",
    "vec_USDCAD = eng.transpose(mat_USDCAD)\n",
    "vec_USDCAD"
   ]
  },
  {
   "cell_type": "code",
   "execution_count": null,
   "metadata": {},
   "outputs": [],
   "source": [
    "mat_arma4_0 = 1.15 * np.asarray(eng.impulse(eng.estimate(eng.arima(4.0,0.0,0.0),vec_USDCAD))).transpose()"
   ]
  },
  {
   "cell_type": "code",
   "execution_count": null,
   "metadata": {},
   "outputs": [],
   "source": [
    "mat_arma4_0 = mat_arma4_0.ravel()\n",
    "mat_arma4_0 = pd.Series(mat_arma4_0)\n",
    "mat_arma4_0"
   ]
  },
  {
   "cell_type": "code",
   "execution_count": null,
   "metadata": {},
   "outputs": [],
   "source": [
    "type(impulse_res_arma40)"
   ]
  },
  {
   "cell_type": "code",
   "execution_count": null,
   "metadata": {
    "collapsed": false
   },
   "outputs": [],
   "source": [
    "plt.plot(impulse_res_arma22, label=\"ARMA(2,2)\")\n",
    "plt.plot(impulse_res_arma40, label=\"ARMA(4,0)\", linestyle=\"--\")\n",
    "plt.plot(mat_arma4_0, label=\"AR(4,0)\")\n",
    "plt.legend()\n",
    "plt.title(\"Impulse response function\")\n",
    "plt.xlabel(\"Time\")\n",
    "plt.ylabel(\"Impulse response\")\n",
    "plt.show()"
   ]
  },
  {
   "cell_type": "markdown",
   "metadata": {
    "collapsed": false
   },
   "source": [
    "\n",
    "4.f) Comme dans la partie 3, tracez les prévisions à un pas d'avance $\\mathbb{E}_t(y_{t+1})$ pour la période couverte par l'échantillon de validation (holdout sample). Comparez-les avec celles obtenues dans la partie 3."
   ]
  },
  {
   "cell_type": "code",
   "execution_count": null,
   "metadata": {
    "collapsed": false
   },
   "outputs": [],
   "source": []
  },
  {
   "cell_type": "markdown",
   "metadata": {
    "collapsed": false
   },
   "source": [
    "4.g) Comparez les erreurs quadratiques moyennes de la prévision à un pas (pour la série transformée !) pour les deux modèles sélectionnés dans la partie 3, les deux nouveaux modèles, la prévision naïve $\\mathbb{E}_t(y_{t+1}) = y_t$\n",
    "et la prévision paresseuse $\\mathbb{E}_t(y_{t+1}) = 0$ pour tous les t. Cette dernière suppose que la série en\n",
    "niveaux ne changera pas. Que pouvez-vous conclure ? La modélisation de la covariance conditionnelle était-elle utile ?"
   ]
  },
  {
   "cell_type": "code",
   "execution_count": null,
   "metadata": {
    "collapsed": false
   },
   "outputs": [],
   "source": []
  },
  {
   "cell_type": "code",
   "execution_count": null,
   "metadata": {
    "collapsed": false
   },
   "outputs": [],
   "source": []
  },
  {
   "cell_type": "code",
   "execution_count": null,
   "metadata": {
    "collapsed": false
   },
   "outputs": [],
   "source": []
  },
  {
   "cell_type": "code",
   "execution_count": null,
   "metadata": {
    "collapsed": false
   },
   "outputs": [],
   "source": []
  },
  {
   "cell_type": "code",
   "execution_count": null,
   "metadata": {
    "collapsed": false
   },
   "outputs": [],
   "source": []
  },
  {
   "cell_type": "code",
   "execution_count": null,
   "metadata": {
    "collapsed": false
   },
   "outputs": [],
   "source": []
  }
 ],
 "metadata": {
  "kernelspec": {
   "display_name": "Python 3",
   "language": "python",
   "name": "python3"
  },
  "language_info": {
   "codemirror_mode": {
    "name": "ipython",
    "version": 3
   },
   "file_extension": ".py",
   "mimetype": "text/x-python",
   "name": "python",
   "nbconvert_exporter": "python",
   "pygments_lexer": "ipython3",
   "version": "3.10.10"
  },
  "vscode": {
   "interpreter": {
    "hash": "81bd72421fd5d63e4ee9fa784821c92c07d954c88ac6df7776d2c7cf9a96f666"
   }
  }
 },
 "nbformat": 4,
 "nbformat_minor": 0
}
